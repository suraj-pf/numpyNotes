{
  "cells": [
    {
      "cell_type": "markdown",
      "metadata": {
        "id": "exouV4nxLocj"
      },
      "source": [
        "### Numpy array vs Python lists"
      ]
    },
    {
      "cell_type": "code",
      "execution_count": 1,
      "metadata": {},
      "outputs": [],
      "source": [
        "import numpy as np"
      ]
    },
    {
      "cell_type": "code",
      "execution_count": 2,
      "metadata": {
        "colab": {
          "base_uri": "https://localhost:8080/"
        },
        "id": "9ITuYx0tLnbc",
        "outputId": "3b2046b3-40a0-427d-d28a-27c0afa55bda"
      },
      "outputs": [
        {
          "name": "stdout",
          "output_type": "stream",
          "text": [
            "2.480581521987915\n"
          ]
        }
      ],
      "source": [
        "# speed\n",
        "# list\n",
        "a = [i for i in range(10000000)]\n",
        "b = [i for i in range(10000000,20000000)]\n",
        "import time\n",
        "\n",
        "c = []\n",
        "\n",
        "start = time.time()\n",
        "\n",
        "for i in range(len(a)):\n",
        "  c.append(a[i]+b[i])\n",
        "print(time.time() - start)"
      ]
    },
    {
      "cell_type": "code",
      "execution_count": 3,
      "metadata": {
        "colab": {
          "base_uri": "https://localhost:8080/"
        },
        "id": "EW6ISYk6ZifP",
        "outputId": "16d22f74-8e1a-4533-e346-a109693f3874"
      },
      "outputs": [
        {
          "name": "stdout",
          "output_type": "stream",
          "text": [
            "0.21080875396728516\n"
          ]
        }
      ],
      "source": [
        "# numpy\n",
        "import numpy as np\n",
        "a = np.arange(10000000)\n",
        "b = np.arange(10000000,20000000)\n",
        "\n",
        "start = time.time()\n",
        "c = a + b\n",
        "print(time.time()-start)"
      ]
    },
    {
      "cell_type": "code",
      "execution_count": 66,
      "metadata": {
        "colab": {
          "base_uri": "https://localhost:8080/"
        },
        "id": "D0rcBlxZB5tb",
        "outputId": "e459d12e-5aac-46b9-b8ea-81a151a386fb"
      },
      "outputs": [
        {
          "data": {
            "text/plain": [
              "117.40575567981043"
            ]
          },
          "execution_count": 66,
          "metadata": {},
          "output_type": "execute_result"
        }
      ],
      "source": [
        "2.6933066844940186/0.02294015884399414\n",
        "# numpy is faster because list is an refrential as well as dynamic\n",
        "# numpy is 50 times faster and consumes less space"
      ]
    },
    {
      "cell_type": "code",
      "execution_count": 4,
      "metadata": {
        "colab": {
          "base_uri": "https://localhost:8080/"
        },
        "id": "PSC79592SIZz",
        "outputId": "bfd06baa-daaf-47a4-b0e9-1d1d555dadc6"
      },
      "outputs": [
        {
          "data": {
            "text/plain": [
              "89095160"
            ]
          },
          "execution_count": 4,
          "metadata": {},
          "output_type": "execute_result"
        }
      ],
      "source": [
        "# memory\n",
        "a = [i for i in range(10000000)]\n",
        "import sys\n",
        "\n",
        "sys.getsizeof(a)"
      ]
    },
    {
      "cell_type": "code",
      "execution_count": 5,
      "metadata": {
        "colab": {
          "base_uri": "https://localhost:8080/"
        },
        "id": "mk_U1oHuaOSo",
        "outputId": "0c3cc1a7-6dbc-4185-cb06-b66f41fb0d25"
      },
      "outputs": [
        {
          "data": {
            "text/plain": [
              "10000112"
            ]
          },
          "execution_count": 5,
          "metadata": {},
          "output_type": "execute_result"
        }
      ],
      "source": [
        "a = np.arange(10000000,dtype=np.int8)\n",
        "sys.getsizeof(a)"
      ]
    },
    {
      "cell_type": "code",
      "execution_count": 69,
      "metadata": {},
      "outputs": [
        {
          "data": {
            "text/plain": [
              "8.909416214538398"
            ]
          },
          "execution_count": 69,
          "metadata": {},
          "output_type": "execute_result"
        }
      ],
      "source": [
        "89095160/10000112"
      ]
    },
    {
      "cell_type": "code",
      "execution_count": 70,
      "metadata": {
        "id": "MiDnJvwBSJUt"
      },
      "outputs": [],
      "source": [
        "# convenience"
      ]
    },
    {
      "cell_type": "code",
      "execution_count": 7,
      "metadata": {},
      "outputs": [
        {
          "data": {
            "text/plain": [
              "array([[ 0,  1,  2,  3],\n",
              "       [ 4,  5,  6,  7],\n",
              "       [ 8,  9, 10, 11]])"
            ]
          },
          "execution_count": 7,
          "metadata": {},
          "output_type": "execute_result"
        }
      ],
      "source": [
        "a = np.arange(12).reshape(3,4)\n",
        "a"
      ]
    },
    {
      "cell_type": "code",
      "execution_count": 8,
      "metadata": {},
      "outputs": [
        {
          "data": {
            "text/plain": [
              "array([[5, 7]])"
            ]
          },
          "execution_count": 8,
          "metadata": {},
          "output_type": "execute_result"
        }
      ],
      "source": [
        "a[1:2,1::2]"
      ]
    },
    {
      "cell_type": "markdown",
      "metadata": {
        "id": "G7gJ1-8fLLEI"
      },
      "source": [
        "### Advanced Indexing"
      ]
    },
    {
      "cell_type": "code",
      "execution_count": 10,
      "metadata": {
        "colab": {
          "base_uri": "https://localhost:8080/"
        },
        "id": "qxCgXTRo1Lk8",
        "outputId": "ff2d2010-c717-4d89-a40e-374ba8473160"
      },
      "outputs": [
        {
          "data": {
            "text/plain": [
              "array([[ 0,  1,  2],\n",
              "       [ 3,  4,  5],\n",
              "       [ 6,  7,  8],\n",
              "       [ 9, 10, 11]])"
            ]
          },
          "execution_count": 10,
          "metadata": {},
          "output_type": "execute_result"
        }
      ],
      "source": [
        "# Fancy Indexing\n",
        "a = np.arange(12).reshape(4,3)\n",
        "a"
      ]
    },
    {
      "cell_type": "code",
      "execution_count": 11,
      "metadata": {},
      "outputs": [
        {
          "data": {
            "text/plain": [
              "array([[ 0,  1,  2],\n",
              "       [ 6,  7,  8],\n",
              "       [ 9, 10, 11]])"
            ]
          },
          "execution_count": 11,
          "metadata": {},
          "output_type": "execute_result"
        }
      ],
      "source": [
        "a[[0,2,3]]"
      ]
    },
    {
      "cell_type": "code",
      "execution_count": 12,
      "metadata": {
        "id": "1BIkbzQCFUft"
      },
      "outputs": [
        {
          "data": {
            "text/plain": [
              "array([[ 0,  1,  2,  3],\n",
              "       [ 4,  5,  6,  7],\n",
              "       [ 8,  9, 10, 11],\n",
              "       [12, 13, 14, 15],\n",
              "       [16, 17, 18, 19],\n",
              "       [20, 21, 22, 23]])"
            ]
          },
          "execution_count": 12,
          "metadata": {},
          "output_type": "execute_result"
        }
      ],
      "source": [
        "a = np.arange(24).reshape(6,4)\n",
        "a"
      ]
    },
    {
      "cell_type": "code",
      "execution_count": 14,
      "metadata": {},
      "outputs": [
        {
          "data": {
            "text/plain": [
              "array([[ 0,  1,  2,  3],\n",
              "       [ 8,  9, 10, 11],\n",
              "       [12, 13, 14, 15],\n",
              "       [20, 21, 22, 23]])"
            ]
          },
          "execution_count": 14,
          "metadata": {},
          "output_type": "execute_result"
        }
      ],
      "source": [
        "a[[0,2,3,5]]"
      ]
    },
    {
      "cell_type": "code",
      "execution_count": 15,
      "metadata": {},
      "outputs": [
        {
          "data": {
            "text/plain": [
              "array([[ 0,  2,  3],\n",
              "       [ 4,  6,  7],\n",
              "       [ 8, 10, 11],\n",
              "       [12, 14, 15],\n",
              "       [16, 18, 19],\n",
              "       [20, 22, 23]])"
            ]
          },
          "execution_count": 15,
          "metadata": {},
          "output_type": "execute_result"
        }
      ],
      "source": [
        "a[:,[0,2,3]]"
      ]
    },
    {
      "cell_type": "markdown",
      "metadata": {},
      "source": [
        "fancy indexing always works as row,cloumn and rows and colums should be of same size a[[0,2,3],[0,2,3]]\n",
        "indexing arrays could not be broadcast together with shapes (2,) (3,) "
      ]
    },
    {
      "cell_type": "code",
      "execution_count": 16,
      "metadata": {},
      "outputs": [
        {
          "data": {
            "text/plain": [
              "array([ 0, 10, 15])"
            ]
          },
          "execution_count": 16,
          "metadata": {},
          "output_type": "execute_result"
        }
      ],
      "source": [
        "a[[0,2,3],[0,2,3]]"
      ]
    },
    {
      "cell_type": "code",
      "execution_count": 17,
      "metadata": {
        "colab": {
          "base_uri": "https://localhost:8080/"
        },
        "id": "3hrTxRuy1Noi",
        "outputId": "0fe3f0ad-3b25-4c1c-cd60-6175fcd0d9c2"
      },
      "outputs": [
        {
          "data": {
            "text/plain": [
              "array([[46, 21,  1, 16],\n",
              "       [76, 39, 90,  6],\n",
              "       [70, 76, 74, 65],\n",
              "       [57, 13, 94, 88],\n",
              "       [38, 70,  8, 30],\n",
              "       [13, 32, 41, 14]])"
            ]
          },
          "execution_count": 17,
          "metadata": {},
          "output_type": "execute_result"
        }
      ],
      "source": [
        "# Boolean Indexing\n",
        "a = np.random.randint(1,100,24).reshape(6,4)\n",
        "a"
      ]
    },
    {
      "cell_type": "code",
      "execution_count": 19,
      "metadata": {
        "colab": {
          "base_uri": "https://localhost:8080/"
        },
        "id": "zMvMQcm01mcG",
        "outputId": "608dfc5b-1457-40ba-d706-70f220bd582c"
      },
      "outputs": [
        {
          "data": {
            "text/plain": [
              "array([76, 90, 70, 76, 74, 65, 57, 94, 88, 70])"
            ]
          },
          "execution_count": 19,
          "metadata": {},
          "output_type": "execute_result"
        }
      ],
      "source": [
        "# find all numbers greater than 50\n",
        "a[a>50]"
      ]
    },
    {
      "cell_type": "code",
      "execution_count": 21,
      "metadata": {},
      "outputs": [
        {
          "data": {
            "text/plain": [
              "array([[ True, False, False,  True],\n",
              "       [ True, False,  True,  True],\n",
              "       [ True,  True,  True, False],\n",
              "       [False, False,  True,  True],\n",
              "       [ True,  True,  True,  True],\n",
              "       [False,  True, False,  True]])"
            ]
          },
          "execution_count": 21,
          "metadata": {},
          "output_type": "execute_result"
        }
      ],
      "source": [
        "a%2==0"
      ]
    },
    {
      "cell_type": "code",
      "execution_count": 20,
      "metadata": {
        "colab": {
          "base_uri": "https://localhost:8080/"
        },
        "id": "_4BwwwxEG68r",
        "outputId": "0bc7ef64-a860-4c39-b1bb-98d8f73ad999"
      },
      "outputs": [
        {
          "data": {
            "text/plain": [
              "array([46, 16, 76, 90,  6, 70, 76, 74, 94, 88, 38, 70,  8, 30, 32, 14])"
            ]
          },
          "execution_count": 20,
          "metadata": {},
          "output_type": "execute_result"
        }
      ],
      "source": [
        "# find out even numbers\n",
        "a[a%2==0]"
      ]
    },
    {
      "cell_type": "code",
      "execution_count": 30,
      "metadata": {
        "colab": {
          "base_uri": "https://localhost:8080/",
          "height": 205
        },
        "id": "MIk_GnwQ1sS2",
        "outputId": "0b3e8ed7-0354-4a93-c4e8-e3901e395ced"
      },
      "outputs": [
        {
          "data": {
            "text/plain": [
              "array([76, 90, 70, 76, 74, 94, 88, 70])"
            ]
          },
          "execution_count": 30,
          "metadata": {},
          "output_type": "execute_result"
        }
      ],
      "source": [
        "# find all numbers greater than 50 and are even\n",
        "a[(a>50) & (a%2==0)]\n",
        "#  ampersent sign cuz we are dealing with boolean values"
      ]
    },
    {
      "cell_type": "code",
      "execution_count": 32,
      "metadata": {
        "colab": {
          "base_uri": "https://localhost:8080/"
        },
        "id": "rhGQtwkl6W7k",
        "outputId": "f6f525b9-9556-4c9c-aa9c-bd56bb7cab0c"
      },
      "outputs": [
        {
          "data": {
            "text/plain": [
              "array([46,  1, 16, 76, 39, 90,  6, 76, 74, 65, 57, 13, 94, 88, 38,  8, 30,\n",
              "       13, 32, 41])"
            ]
          },
          "execution_count": 32,
          "metadata": {},
          "output_type": "execute_result"
        }
      ],
      "source": [
        "# find all numbers not divisible by 7\n",
        "a[(a % 7 != 0)]"
      ]
    },
    {
      "cell_type": "code",
      "execution_count": 33,
      "metadata": {},
      "outputs": [
        {
          "data": {
            "text/plain": [
              "array([46,  1, 16, 76, 39, 90,  6, 76, 74, 65, 57, 13, 94, 88, 38,  8, 30,\n",
              "       13, 32, 41])"
            ]
          },
          "execution_count": 33,
          "metadata": {},
          "output_type": "execute_result"
        }
      ],
      "source": [
        "a[~(a % 7 == 0)]"
      ]
    },
    {
      "cell_type": "markdown",
      "metadata": {
        "id": "n2UP2iZTLPR5"
      },
      "source": [
        "### Broadcasting\n",
        "\n",
        "The term broadcasting describes how NumPy treats arrays with different shapes during arithmetic operations.\n",
        "\n",
        "The smaller array is “broadcast” across the larger array so that they have compatible shapes."
      ]
    },
    {
      "cell_type": "code",
      "execution_count": 34,
      "metadata": {
        "colab": {
          "base_uri": "https://localhost:8080/"
        },
        "id": "tJTrjKxoCYhT",
        "outputId": "efeae6e2-add6-4e95-e1d4-b71c806438f2"
      },
      "outputs": [
        {
          "name": "stdout",
          "output_type": "stream",
          "text": [
            "[[0 1 2]\n",
            " [3 4 5]]\n",
            "[[ 6  7  8]\n",
            " [ 9 10 11]]\n",
            "[[ 6  8 10]\n",
            " [12 14 16]]\n"
          ]
        }
      ],
      "source": [
        "# same shape\n",
        "a = np.arange(6).reshape(2,3)\n",
        "b = np.arange(6,12).reshape(2,3)\n",
        "\n",
        "print(a)\n",
        "print(b)\n",
        "\n",
        "print(a+b)"
      ]
    },
    {
      "cell_type": "code",
      "execution_count": 42,
      "metadata": {
        "colab": {
          "base_uri": "https://localhost:8080/"
        },
        "id": "f-mVhFT-N3jF",
        "outputId": "dbd6e2bd-f05b-4113-f2e6-b31ded8873cf"
      },
      "outputs": [
        {
          "name": "stdout",
          "output_type": "stream",
          "text": [
            "[[0 1 2]\n",
            " [3 4 5]]\n",
            "[[0 1 2]]\n",
            "[[0 2 4]\n",
            " [3 5 7]]\n"
          ]
        }
      ],
      "source": [
        "# diff shape\n",
        "a = np.arange(6).reshape(2,3)\n",
        "b = np.arange(3).reshape(1,3)\n",
        "\n",
        "print(a)\n",
        "print(b)\n",
        "\n",
        "print(a+b)"
      ]
    },
    {
      "cell_type": "code",
      "execution_count": 41,
      "metadata": {},
      "outputs": [
        {
          "name": "stdout",
          "output_type": "stream",
          "text": [
            "[0 0]\n",
            "[0 3]\n"
          ]
        },
        {
          "data": {
            "text/plain": [
              "array([0, 3])"
            ]
          },
          "execution_count": 41,
          "metadata": {},
          "output_type": "execute_result"
        }
      ],
      "source": [
        "a = np.random.randint((3,4))\n",
        "b = np.random.randint((1,6))\n",
        "print(a)\n",
        "print(b)\n",
        "a+b"
      ]
    },
    {
      "cell_type": "markdown",
      "metadata": {
        "id": "XXzDHsndO70t"
      },
      "source": [
        "#### Broadcasting Rules\n",
        "\n",
        "**1. Make the two arrays have the same number of dimensions.**<br>\n",
        "- If the numbers of dimensions of the two arrays are different, add new dimensions with size 1 to the head of the array with the smaller dimension.<br>"
      ]
    },
    {
      "cell_type": "markdown",
      "metadata": {
        "id": "M_ZI1gpEPdwi"
      },
      "source": [
        "**2. Make each dimension of the two arrays the same size.**<br>\n",
        "- If the sizes of each dimension of the two arrays do not match, dimensions with size 1 are stretched to the size of the other array.\n",
        "- If there is a dimension whose size is not 1 in either of the two arrays, it cannot be broadcasted, and an error is raised."
      ]
    },
    {
      "cell_type": "markdown",
      "metadata": {
        "id": "6YxVl8iZVLEh"
      },
      "source": [
        "<img src = \"https://jakevdp.github.io/PythonDataScienceHandbook/figures/02.05-broadcasting.png\">"
      ]
    },
    {
      "cell_type": "code",
      "execution_count": 43,
      "metadata": {
        "colab": {
          "base_uri": "https://localhost:8080/"
        },
        "id": "0WKia_sDRaNm",
        "outputId": "20e7fd8a-f8f5-4650-f3ef-8d014e8e7c27"
      },
      "outputs": [
        {
          "name": "stdout",
          "output_type": "stream",
          "text": [
            "[[ 0  1  2]\n",
            " [ 3  4  5]\n",
            " [ 6  7  8]\n",
            " [ 9 10 11]]\n",
            "[0 1 2]\n",
            "[[ 0  2  4]\n",
            " [ 3  5  7]\n",
            " [ 6  8 10]\n",
            " [ 9 11 13]]\n"
          ]
        }
      ],
      "source": [
        "# More examples\n",
        "\n",
        "a = np.arange(12).reshape(4,3)\n",
        "b = np.arange(3)\n",
        "\n",
        "print(a)\n",
        "print(b)\n",
        "\n",
        "print(a+b)"
      ]
    },
    {
      "cell_type": "code",
      "execution_count": 44,
      "metadata": {
        "colab": {
          "base_uri": "https://localhost:8080/",
          "height": 277
        },
        "id": "SqtTHUngRhss",
        "outputId": "37a5dc7b-75b7-4cb3-9348-26197ccdf97c"
      },
      "outputs": [
        {
          "name": "stdout",
          "output_type": "stream",
          "text": [
            "[[ 0  1  2  3]\n",
            " [ 4  5  6  7]\n",
            " [ 8  9 10 11]]\n",
            "[0 1 2]\n"
          ]
        },
        {
          "ename": "ValueError",
          "evalue": "operands could not be broadcast together with shapes (3,4) (3,) ",
          "output_type": "error",
          "traceback": [
            "\u001b[1;31m---------------------------------------------------------------------------\u001b[0m",
            "\u001b[1;31mValueError\u001b[0m                                Traceback (most recent call last)",
            "Cell \u001b[1;32mIn[44], line 7\u001b[0m\n\u001b[0;32m      4\u001b[0m \u001b[38;5;28mprint\u001b[39m(a)\n\u001b[0;32m      5\u001b[0m \u001b[38;5;28mprint\u001b[39m(b)\n\u001b[1;32m----> 7\u001b[0m \u001b[38;5;28mprint\u001b[39m(\u001b[43ma\u001b[49m\u001b[38;5;241;43m+\u001b[39;49m\u001b[43mb\u001b[49m)\n",
            "\u001b[1;31mValueError\u001b[0m: operands could not be broadcast together with shapes (3,4) (3,) "
          ]
        }
      ],
      "source": [
        "a = np.arange(12).reshape(3,4)\n",
        "b = np.arange(3)\n",
        "\n",
        "print(a)\n",
        "print(b)\n",
        "\n",
        "print(a+b)"
      ]
    },
    {
      "cell_type": "code",
      "execution_count": 46,
      "metadata": {
        "colab": {
          "base_uri": "https://localhost:8080/"
        },
        "id": "5hQ269ncQedR",
        "outputId": "b6f1ed7f-95da-4e52-cb8e-a58f41a34add"
      },
      "outputs": [
        {
          "name": "stdout",
          "output_type": "stream",
          "text": [
            "[[0 1 2]]\n",
            "[[0]\n",
            " [1]\n",
            " [2]]\n",
            "[[0 1 2]\n",
            " [1 2 3]\n",
            " [2 3 4]]\n"
          ]
        }
      ],
      "source": [
        "a = np.arange(3).reshape(1,3)\n",
        "b = np.arange(3).reshape(3,1)\n",
        "\n",
        "print(a)\n",
        "print(b)\n",
        "\n",
        "print(a+b)"
      ]
    },
    {
      "cell_type": "code",
      "execution_count": 47,
      "metadata": {
        "colab": {
          "base_uri": "https://localhost:8080/"
        },
        "id": "sc4X7IQVRujU",
        "outputId": "97a1aad8-1827-4038-ea8d-1d4516359d36"
      },
      "outputs": [
        {
          "name": "stdout",
          "output_type": "stream",
          "text": [
            "[[0 1 2]]\n",
            "[[0]\n",
            " [1]\n",
            " [2]\n",
            " [3]]\n",
            "[[0 1 2]\n",
            " [1 2 3]\n",
            " [2 3 4]\n",
            " [3 4 5]]\n"
          ]
        }
      ],
      "source": [
        "a = np.arange(3).reshape(1,3)\n",
        "b = np.arange(4).reshape(4,1)\n",
        "\n",
        "print(a)\n",
        "print(b)\n",
        "\n",
        "print(a + b)"
      ]
    },
    {
      "cell_type": "code",
      "execution_count": 48,
      "metadata": {
        "colab": {
          "base_uri": "https://localhost:8080/"
        },
        "id": "v6EwwULkQuvs",
        "outputId": "48990123-6b83-414c-c42f-5f0b593a4967"
      },
      "outputs": [
        {
          "name": "stdout",
          "output_type": "stream",
          "text": [
            "[1]\n",
            "[[0 1]\n",
            " [2 3]]\n",
            "[[1 2]\n",
            " [3 4]]\n"
          ]
        }
      ],
      "source": [
        "a = np.array([1])\n",
        "# shape -> (1,1)\n",
        "b = np.arange(4).reshape(2,2)\n",
        "# shape -> (2,2)\n",
        "\n",
        "print(a)\n",
        "print(b)\n",
        "\n",
        "print(a+b)"
      ]
    },
    {
      "cell_type": "code",
      "execution_count": 49,
      "metadata": {
        "colab": {
          "base_uri": "https://localhost:8080/",
          "height": 330
        },
        "id": "nEgUi7tnRGI4",
        "outputId": "8de08148-7f3e-4a03-823c-0c4e157a556e"
      },
      "outputs": [
        {
          "name": "stdout",
          "output_type": "stream",
          "text": [
            "[[ 0  1  2  3]\n",
            " [ 4  5  6  7]\n",
            " [ 8  9 10 11]]\n",
            "[[ 0  1  2]\n",
            " [ 3  4  5]\n",
            " [ 6  7  8]\n",
            " [ 9 10 11]]\n"
          ]
        },
        {
          "ename": "ValueError",
          "evalue": "operands could not be broadcast together with shapes (3,4) (4,3) ",
          "output_type": "error",
          "traceback": [
            "\u001b[1;31m---------------------------------------------------------------------------\u001b[0m",
            "\u001b[1;31mValueError\u001b[0m                                Traceback (most recent call last)",
            "Cell \u001b[1;32mIn[49], line 7\u001b[0m\n\u001b[0;32m      4\u001b[0m \u001b[38;5;28mprint\u001b[39m(a)\n\u001b[0;32m      5\u001b[0m \u001b[38;5;28mprint\u001b[39m(b)\n\u001b[1;32m----> 7\u001b[0m \u001b[38;5;28mprint\u001b[39m(\u001b[43ma\u001b[49m\u001b[38;5;241;43m+\u001b[39;49m\u001b[43mb\u001b[49m)\n",
            "\u001b[1;31mValueError\u001b[0m: operands could not be broadcast together with shapes (3,4) (4,3) "
          ]
        }
      ],
      "source": [
        "a = np.arange(12).reshape(3,4)\n",
        "b = np.arange(12).reshape(4,3)\n",
        "\n",
        "print(a)\n",
        "print(b)\n",
        "\n",
        "print(a+b)"
      ]
    },
    {
      "cell_type": "code",
      "execution_count": 50,
      "metadata": {
        "colab": {
          "base_uri": "https://localhost:8080/",
          "height": 312
        },
        "id": "kelF0GRBR3--",
        "outputId": "233ef62e-b775-4f00-c61d-dd9131067183"
      },
      "outputs": [
        {
          "name": "stdout",
          "output_type": "stream",
          "text": [
            "[[ 0  1  2  3]\n",
            " [ 4  5  6  7]\n",
            " [ 8  9 10 11]\n",
            " [12 13 14 15]]\n",
            "[[0 1]\n",
            " [2 3]]\n"
          ]
        },
        {
          "ename": "ValueError",
          "evalue": "operands could not be broadcast together with shapes (4,4) (2,2) ",
          "output_type": "error",
          "traceback": [
            "\u001b[1;31m---------------------------------------------------------------------------\u001b[0m",
            "\u001b[1;31mValueError\u001b[0m                                Traceback (most recent call last)",
            "Cell \u001b[1;32mIn[50], line 7\u001b[0m\n\u001b[0;32m      4\u001b[0m \u001b[38;5;28mprint\u001b[39m(a)\n\u001b[0;32m      5\u001b[0m \u001b[38;5;28mprint\u001b[39m(b)\n\u001b[1;32m----> 7\u001b[0m \u001b[38;5;28mprint\u001b[39m(\u001b[43ma\u001b[49m\u001b[38;5;241;43m+\u001b[39;49m\u001b[43mb\u001b[49m)\n",
            "\u001b[1;31mValueError\u001b[0m: operands could not be broadcast together with shapes (4,4) (2,2) "
          ]
        }
      ],
      "source": [
        "a = np.arange(16).reshape(4,4)\n",
        "b = np.arange(4).reshape(2,2)\n",
        "\n",
        "print(a)\n",
        "print(b)\n",
        "\n",
        "print(a+b)"
      ]
    },
    {
      "cell_type": "markdown",
      "metadata": {
        "id": "UNqpEw03LSl6"
      },
      "source": [
        "### Working with mathematical formulas"
      ]
    },
    {
      "cell_type": "code",
      "execution_count": 51,
      "metadata": {
        "colab": {
          "base_uri": "https://localhost:8080/"
        },
        "id": "U01nMTh-N-h_",
        "outputId": "f78780bf-cea2-4234-f03f-38df6c36f812"
      },
      "outputs": [
        {
          "data": {
            "text/plain": [
              "array([ 0.        ,  0.84147098,  0.90929743,  0.14112001, -0.7568025 ,\n",
              "       -0.95892427, -0.2794155 ,  0.6569866 ,  0.98935825,  0.41211849])"
            ]
          },
          "execution_count": 51,
          "metadata": {},
          "output_type": "execute_result"
        }
      ],
      "source": [
        "a = np.arange(10)\n",
        "np.sin(a)"
      ]
    },
    {
      "cell_type": "code",
      "execution_count": null,
      "metadata": {
        "colab": {
          "base_uri": "https://localhost:8080/"
        },
        "id": "Sf6T8s8VCZum",
        "outputId": "976e4793-59c8-4590-bc57-5c3df210c1c3"
      },
      "outputs": [
        {
          "data": {
            "text/plain": [
              "array([0.5       , 0.73105858, 0.88079708, 0.95257413, 0.98201379,\n",
              "       0.99330715, 0.99752738, 0.99908895, 0.99966465, 0.99987661,\n",
              "       0.9999546 , 0.9999833 , 0.99999386, 0.99999774, 0.99999917,\n",
              "       0.99999969, 0.99999989, 0.99999996, 0.99999998, 0.99999999,\n",
              "       1.        , 1.        , 1.        , 1.        , 1.        ,\n",
              "       1.        , 1.        , 1.        , 1.        , 1.        ,\n",
              "       1.        , 1.        , 1.        , 1.        , 1.        ,\n",
              "       1.        , 1.        , 1.        , 1.        , 1.        ,\n",
              "       1.        , 1.        , 1.        , 1.        , 1.        ,\n",
              "       1.        , 1.        , 1.        , 1.        , 1.        ,\n",
              "       1.        , 1.        , 1.        , 1.        , 1.        ,\n",
              "       1.        , 1.        , 1.        , 1.        , 1.        ,\n",
              "       1.        , 1.        , 1.        , 1.        , 1.        ,\n",
              "       1.        , 1.        , 1.        , 1.        , 1.        ,\n",
              "       1.        , 1.        , 1.        , 1.        , 1.        ,\n",
              "       1.        , 1.        , 1.        , 1.        , 1.        ,\n",
              "       1.        , 1.        , 1.        , 1.        , 1.        ,\n",
              "       1.        , 1.        , 1.        , 1.        , 1.        ,\n",
              "       1.        , 1.        , 1.        , 1.        , 1.        ,\n",
              "       1.        , 1.        , 1.        , 1.        , 1.        ])"
            ]
          },
          "execution_count": 56,
          "metadata": {},
          "output_type": "execute_result"
        }
      ],
      "source": [
        "# sigmoid\n",
        "def sigmoid (araray):\n",
        "  return 1/(1 + np.exp(-(araray)))\n",
        "\n",
        "a = np.arange(100)\n",
        "sigmoid(a)\n"
      ]
    },
    {
      "cell_type": "code",
      "execution_count": 53,
      "metadata": {
        "id": "3jaule_JOcdc"
      },
      "outputs": [],
      "source": [
        "# mean squared error\n",
        "\n",
        "actual = np.random.randint(1,50,25)\n",
        "predicted  = np.random.randint(1,50,25)"
      ]
    },
    {
      "cell_type": "code",
      "execution_count": 54,
      "metadata": {
        "colab": {
          "base_uri": "https://localhost:8080/"
        },
        "id": "qfoOOAAUQzhY",
        "outputId": "25d8bc85-fc80-49ef-9e75-196a5a0ff0c5"
      },
      "outputs": [
        {
          "data": {
            "text/plain": [
              "array([23, 29, 28,  2, 21, 31, 21, 17, 42, 10, 20, 33, 23, 16, 35, 39, 38,\n",
              "       13, 43, 45, 41, 42, 49, 48, 38])"
            ]
          },
          "execution_count": 54,
          "metadata": {},
          "output_type": "execute_result"
        }
      ],
      "source": [
        "actual"
      ]
    },
    {
      "cell_type": "code",
      "execution_count": 55,
      "metadata": {},
      "outputs": [
        {
          "data": {
            "text/plain": [
              "array([11, 30, 12, 18,  9, 27, 44, 43, 23, 12, 26, 45,  3,  4, 41, 42, 21,\n",
              "       22, 34, 47, 29, 24, 16, 12, 11])"
            ]
          },
          "execution_count": 55,
          "metadata": {},
          "output_type": "execute_result"
        }
      ],
      "source": [
        "predicted"
      ]
    },
    {
      "cell_type": "code",
      "execution_count": 56,
      "metadata": {},
      "outputs": [
        {
          "data": {
            "text/plain": [
              "287.72"
            ]
          },
          "execution_count": 56,
          "metadata": {},
          "output_type": "execute_result"
        }
      ],
      "source": [
        "def msq(a,b):\n",
        "    return np.average((a-b)**2)\n",
        "\n",
        "msq(actual,predicted)"
      ]
    },
    {
      "cell_type": "code",
      "execution_count": 57,
      "metadata": {},
      "outputs": [
        {
          "data": {
            "text/plain": [
              "287.72"
            ]
          },
          "execution_count": 57,
          "metadata": {},
          "output_type": "execute_result"
        }
      ],
      "source": [
        "a = (actual-predicted)**2\n",
        "np.mean(a)"
      ]
    },
    {
      "cell_type": "code",
      "execution_count": null,
      "metadata": {
        "colab": {
          "base_uri": "https://localhost:8080/"
        },
        "id": "3O6WqXi-OdIO",
        "outputId": "5f32815f-893e-4654-9285-6ef9af6def5f"
      },
      "outputs": [
        {
          "data": {
            "text/plain": [
              "500.12"
            ]
          },
          "execution_count": 125,
          "metadata": {},
          "output_type": "execute_result"
        }
      ],
      "source": [
        "# binary cross entropy\n"
      ]
    },
    {
      "cell_type": "markdown",
      "metadata": {
        "id": "d9olU9IoLX8P"
      },
      "source": [
        "### Working with missing values"
      ]
    },
    {
      "cell_type": "code",
      "execution_count": 59,
      "metadata": {
        "colab": {
          "base_uri": "https://localhost:8080/"
        },
        "id": "LhrsmaIfChjL",
        "outputId": "7e2c55af-6e86-4dfb-adbb-1f6a0d62099e"
      },
      "outputs": [
        {
          "data": {
            "text/plain": [
              "array([ 1.,  2.,  3.,  4., nan,  6.])"
            ]
          },
          "execution_count": 59,
          "metadata": {},
          "output_type": "execute_result"
        }
      ],
      "source": [
        "# Working with missing values -> np.nan\n",
        "a = np.array([1,2,3,4,np.nan,6])\n",
        "a"
      ]
    },
    {
      "cell_type": "code",
      "execution_count": 64,
      "metadata": {
        "colab": {
          "base_uri": "https://localhost:8080/"
        },
        "id": "dYI5z7g6S_TI",
        "outputId": "2238d623-f056-497c-844a-e38bd204821f"
      },
      "outputs": [
        {
          "data": {
            "text/plain": [
              "array([1., 2., 3., 4., 6.])"
            ]
          },
          "execution_count": 64,
          "metadata": {},
          "output_type": "execute_result"
        }
      ],
      "source": [
        "a[~np.isnan(a)]"
      ]
    },
    {
      "cell_type": "code",
      "execution_count": 61,
      "metadata": {},
      "outputs": [
        {
          "data": {
            "text/plain": [
              "array([1.000e+00, 2.000e+00, 4.000e+00, 4.500e+01, 6.346e+03, 3.000e+00,\n",
              "             nan])"
            ]
          },
          "execution_count": 61,
          "metadata": {},
          "output_type": "execute_result"
        }
      ],
      "source": [
        "y = np.array([1,2,4,45,6346,3,np.nan])\n",
        "y"
      ]
    },
    {
      "cell_type": "code",
      "execution_count": 62,
      "metadata": {},
      "outputs": [
        {
          "data": {
            "text/plain": [
              "array([1.000e+00, 2.000e+00, 4.000e+00, 4.500e+01, 6.346e+03, 3.000e+00])"
            ]
          },
          "execution_count": 62,
          "metadata": {},
          "output_type": "execute_result"
        }
      ],
      "source": [
        "y[~(np.isnan(y))]"
      ]
    },
    {
      "cell_type": "markdown",
      "metadata": {
        "id": "LdVWeHyeLdw5"
      },
      "source": [
        "### Plotting Graphs"
      ]
    },
    {
      "cell_type": "code",
      "execution_count": 65,
      "metadata": {
        "colab": {
          "base_uri": "https://localhost:8080/",
          "height": 283
        },
        "id": "2XjXkt9JCm9q",
        "outputId": "3cf8071a-7fc5-48be-ece4-2b7896fd8a63"
      },
      "outputs": [
        {
          "data": {
            "text/plain": [
              "[<matplotlib.lines.Line2D at 0x28081036150>]"
            ]
          },
          "execution_count": 65,
          "metadata": {},
          "output_type": "execute_result"
        },
        {
          "data": {
            "image/png": "[encoded data removed]",
            "text/plain": [
              "<Figure size 640x480 with 1 Axes>"
            ]
          },
          "metadata": {},
          "output_type": "display_data"
        }
      ],
      "source": [
        "# plotting a 2D plot\n",
        "# x = y\n",
        "import matplotlib.pyplot as plt\n",
        "\n",
        "x = np.linspace(-10,10,100)\n",
        "y = x\n",
        "\n",
        "plt.plot(x,y)"
      ]
    },
    {
      "cell_type": "code",
      "execution_count": null,
      "metadata": {
        "colab": {
          "base_uri": "https://localhost:8080/",
          "height": 283
        },
        "id": "SyYCKM--V7Uw",
        "outputId": "ef8c3245-56e0-4210-e4d3-4f4f784f39ab"
      },
      "outputs": [
        {
          "data": {
            "text/plain": [
              "[<matplotlib.lines.Line2D at 0x7f6f87acf100>]"
            ]
          },
          "execution_count": 135,
          "metadata": {},
          "output_type": "execute_result"
        },
        {
          "data": {
            "image/png": "[encoded data removed]",
            "text/plain": [
              "<Figure size 432x288 with 1 Axes>"
            ]
          },
          "metadata": {
            "needs_background": "light"
          },
          "output_type": "display_data"
        }
      ],
      "source": [
        "# y = x^2\n",
        "x = np.linspace(-10,10,100)\n",
        "y = x**2\n",
        "\n",
        "plt.plot(x,y)"
      ]
    },
    {
      "cell_type": "code",
      "execution_count": null,
      "metadata": {
        "colab": {
          "base_uri": "https://localhost:8080/",
          "height": 283
        },
        "id": "lG-QRoWdWHxp",
        "outputId": "11b66200-e2f0-4d23-8b42-02b9d8573e4a"
      },
      "outputs": [
        {
          "data": {
            "text/plain": [
              "[<matplotlib.lines.Line2D at 0x7f6f5d1d0100>]"
            ]
          },
          "execution_count": 136,
          "metadata": {},
          "output_type": "execute_result"
        },
        {
          "data": {
            "image/png": "[encoded data removed]",
            "text/plain": [
              "<Figure size 432x288 with 1 Axes>"
            ]
          },
          "metadata": {
            "needs_background": "light"
          },
          "output_type": "display_data"
        }
      ],
      "source": [
        "# y = sin(x)\n",
        "x = np.linspace(-10,10,100)\n",
        "y = np.sin(x)\n",
        "\n",
        "plt.plot(x,y)"
      ]
    },
    {
      "cell_type": "code",
      "execution_count": null,
      "metadata": {
        "colab": {
          "base_uri": "https://localhost:8080/",
          "height": 319
        },
        "id": "EpuzrF8YWUqD",
        "outputId": "3e61f24d-a9f9-4d28-a303-3ff9390899cb"
      },
      "outputs": [
        {
          "name": "stderr",
          "output_type": "stream",
          "text": [
            "<ipython-input-137-4b3958c08378>:3: RuntimeWarning: invalid value encountered in log\n",
            "  y = x * np.log(x)\n"
          ]
        },
        {
          "data": {
            "text/plain": [
              "[<matplotlib.lines.Line2D at 0x7f6f57ab62e0>]"
            ]
          },
          "execution_count": 137,
          "metadata": {},
          "output_type": "execute_result"
        },
        {
          "data": {
            "image/png": "[encoded data removed]",
            "text/plain": [
              "<Figure size 432x288 with 1 Axes>"
            ]
          },
          "metadata": {
            "needs_background": "light"
          },
          "output_type": "display_data"
        }
      ],
      "source": [
        "# y = xlog(x)\n",
        "x = np.linspace(-10,10,100)\n",
        "y = x * np.log(x)\n",
        "\n",
        "plt.plot(x,y)"
      ]
    },
    {
      "cell_type": "code",
      "execution_count": 67,
      "metadata": {
        "colab": {
          "base_uri": "https://localhost:8080/",
          "height": 283
        },
        "id": "LidUuDKVW5De",
        "outputId": "651766f0-8f17-4b64-d436-1aca8ad7ee73"
      },
      "outputs": [
        {
          "data": {
            "text/plain": [
              "[<matplotlib.lines.Line2D at 0x28081130770>]"
            ]
          },
          "execution_count": 67,
          "metadata": {},
          "output_type": "execute_result"
        },
        {
          "data": {
            "image/png": "[encoded data removed]",
            "text/plain": [
              "<Figure size 640x480 with 1 Axes>"
            ]
          },
          "metadata": {},
          "output_type": "display_data"
        }
      ],
      "source": [
        "import matplotlib.pyplot as plt\n",
        "\n",
        "a = np.linspace(-50,50,100)\n",
        "b = 1/(1 + np.exp(-(a)))\n",
        "\n",
        "plt.plot(a,b)"
      ]
    },
    {
      "cell_type": "markdown",
      "metadata": {
        "id": "1sw0TeY7LiGK"
      },
      "source": [
        "### Meshgrids"
      ]
    },
    {
      "cell_type": "code",
      "execution_count": null,
      "metadata": {
        "id": "xQP6c_ISE75r"
      },
      "outputs": [],
      "source": [
        "# Meshgrids"
      ]
    },
    {
      "cell_type": "code",
      "execution_count": null,
      "metadata": {
        "id": "QPEQuuof8xmJ"
      },
      "outputs": [],
      "source": []
    }
  ],
  "metadata": {
    "colab": {
      "provenance": []
    },
    "kernelspec": {
      "display_name": "Python 3",
      "name": "python3"
    },
    "language_info": {
      "codemirror_mode": {
        "name": "ipython",
        "version": 3
      },
      "file_extension": ".py",
      "mimetype": "text/x-python",
      "name": "python",
      "nbconvert_exporter": "python",
      "pygments_lexer": "ipython3",
      "version": "3.12.1"
    }
  },
  "nbformat": 4,
  "nbformat_minor": 0
}
