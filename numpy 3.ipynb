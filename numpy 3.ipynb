{
  "cells": [
    {
      "cell_type": "markdown",
      "metadata": {
        "id": "39-UcmoPggtI"
      },
      "source": [
        "### np.sort\n",
        "\n",
        "Return a sorted copy of an array.\n",
        "\n",
        "https://numpy.org/doc/stable/reference/generated/numpy.sort.html"
      ]
    },
    {
      "cell_type": "code",
      "execution_count": 2,
      "metadata": {
        "id": "eYsTjvUQmzAf"
      },
      "outputs": [],
      "source": [
        "import numpy as np"
      ]
    },
    {
      "cell_type": "code",
      "execution_count": 3,
      "metadata": {
        "colab": {
          "base_uri": "https://localhost:8080/"
        },
        "id": "vJUzuaz7gqTr",
        "outputId": "2d2cb609-30ce-4125-ed5d-35e351e8fb47"
      },
      "outputs": [
        {
          "data": {
            "text/plain": [
              "array([86, 57, 66, 29, 23, 40, 73, 36, 29, 55, 69, 83, 11, 36, 63])"
            ]
          },
          "execution_count": 3,
          "metadata": {},
          "output_type": "execute_result"
        }
      ],
      "source": [
        "a = np.random.randint(1,100,15)\n",
        "a"
      ]
    },
    {
      "cell_type": "code",
      "execution_count": 4,
      "metadata": {
        "colab": {
          "base_uri": "https://localhost:8080/"
        },
        "id": "8YPO0LFenPKf",
        "outputId": "b04c7d7d-d3d9-4fd8-b752-96f1f0c7c76e"
      },
      "outputs": [
        {
          "data": {
            "text/plain": [
              "array([11, 23, 29, 29, 36, 36, 40, 55, 57, 63, 66, 69, 73, 83, 86])"
            ]
          },
          "execution_count": 4,
          "metadata": {},
          "output_type": "execute_result"
        }
      ],
      "source": [
        "np.sort(a)"
      ]
    },
    {
      "cell_type": "code",
      "execution_count": 5,
      "metadata": {
        "colab": {
          "base_uri": "https://localhost:8080/"
        },
        "id": "Dfer5zY9-HaK",
        "outputId": "220040a7-e149-4e22-dd17-2c1a3ed54a17"
      },
      "outputs": [
        {
          "data": {
            "text/plain": [
              "array([[91, 57, 47,  3],\n",
              "       [94, 73, 65, 46],\n",
              "       [32, 49,  3, 92],\n",
              "       [47, 83, 90, 97],\n",
              "       [88, 89, 55,  5],\n",
              "       [59, 84, 46, 15]])"
            ]
          },
          "execution_count": 5,
          "metadata": {},
          "output_type": "execute_result"
        }
      ],
      "source": [
        "b = np.random.randint(1,100,24).reshape(6,4)\n",
        "b"
      ]
    },
    {
      "cell_type": "code",
      "execution_count": 6,
      "metadata": {
        "colab": {
          "base_uri": "https://localhost:8080/"
        },
        "id": "_w0Sh4GVng7q",
        "outputId": "40a5ecc0-e7c2-4f92-ca07-6e91a150b882"
      },
      "outputs": [
        {
          "name": "stdout",
          "output_type": "stream",
          "text": [
            "0.0010113716125488281\n"
          ]
        }
      ],
      "source": [
        "import time as t\n",
        "start = t.time()\n",
        "np.sort(b)\n",
        "print(t.time()-start)"
      ]
    },
    {
      "cell_type": "code",
      "execution_count": 7,
      "metadata": {
        "colab": {
          "base_uri": "https://localhost:8080/"
        },
        "id": "RsTZMx2koste",
        "outputId": "e883ebb0-9fd8-4320-c2a9-733f87516e41"
      },
      "outputs": [
        {
          "name": "stdout",
          "output_type": "stream",
          "text": [
            "0.001001119613647461\n"
          ]
        }
      ],
      "source": [
        "import time as t\n",
        "start = t.time()\n",
        "np.sort(b,kind='heapsort')\n",
        "print(t.time()-start)"
      ]
    },
    {
      "cell_type": "code",
      "execution_count": 8,
      "metadata": {},
      "outputs": [
        {
          "name": "stdout",
          "output_type": "stream",
          "text": [
            "0.0010001659393310547\n"
          ]
        }
      ],
      "source": [
        "import time as t\n",
        "start = t.time()\n",
        "np.sort(b,kind='stablesort')\n",
        "print(t.time()-start)"
      ]
    },
    {
      "cell_type": "code",
      "execution_count": 9,
      "metadata": {},
      "outputs": [
        {
          "data": {
            "text/plain": [
              "array([11, 23, 29, 29, 36, 36, 40, 55, 57, 63, 66, 69, 73, 83, 86])"
            ]
          },
          "execution_count": 9,
          "metadata": {},
          "output_type": "execute_result"
        }
      ],
      "source": [
        "np.sort(a)"
      ]
    },
    {
      "cell_type": "code",
      "execution_count": 10,
      "metadata": {
        "colab": {
          "base_uri": "https://localhost:8080/"
        },
        "id": "dyjeU-C6KznM",
        "outputId": "d6606238-f363-4be6-b023-22b97de16cf4"
      },
      "outputs": [
        {
          "data": {
            "text/plain": [
              "array([86, 83, 73, 69, 66, 63, 57, 55, 40, 36, 36, 29, 29, 23, 11])"
            ]
          },
          "execution_count": 10,
          "metadata": {},
          "output_type": "execute_result"
        }
      ],
      "source": [
        "np.sort(a)[::-1]"
      ]
    },
    {
      "cell_type": "code",
      "execution_count": 11,
      "metadata": {},
      "outputs": [
        {
          "data": {
            "text/plain": [
              "array([[91, 57, 47,  3],\n",
              "       [94, 73, 65, 46],\n",
              "       [32, 49,  3, 92],\n",
              "       [47, 83, 90, 97],\n",
              "       [88, 89, 55,  5],\n",
              "       [59, 84, 46, 15]])"
            ]
          },
          "execution_count": 11,
          "metadata": {},
          "output_type": "execute_result"
        }
      ],
      "source": [
        "b"
      ]
    },
    {
      "cell_type": "code",
      "execution_count": 12,
      "metadata": {
        "colab": {
          "base_uri": "https://localhost:8080/"
        },
        "id": "9fAdd5BWLHsq",
        "outputId": "c258823d-544e-47aa-9955-2c06694b05ae"
      },
      "outputs": [
        {
          "data": {
            "text/plain": [
              "array([[32, 49,  3,  3],\n",
              "       [47, 57, 46,  5],\n",
              "       [59, 73, 47, 15],\n",
              "       [88, 83, 55, 46],\n",
              "       [91, 84, 65, 92],\n",
              "       [94, 89, 90, 97]])"
            ]
          },
          "execution_count": 12,
          "metadata": {},
          "output_type": "execute_result"
        }
      ],
      "source": [
        "np.sort(b,axis=0)"
      ]
    },
    {
      "cell_type": "markdown",
      "metadata": {
        "id": "W8tttorjgrVf"
      },
      "source": [
        "### np.append\n",
        "\n",
        "The numpy.append() appends values along the mentioned axis at the end of the array\n",
        "\n",
        "https://numpy.org/doc/stable/reference/generated/numpy.append.html"
      ]
    },
    {
      "cell_type": "code",
      "execution_count": 13,
      "metadata": {
        "colab": {
          "base_uri": "https://localhost:8080/"
        },
        "id": "HGlimvmhqJAS",
        "outputId": "a7e51a0b-4b19-4ed0-822c-ef815056f7f3"
      },
      "outputs": [
        {
          "data": {
            "text/plain": [
              "array([86, 57, 66, 29, 23, 40, 73, 36, 29, 55, 69, 83, 11, 36, 63])"
            ]
          },
          "execution_count": 13,
          "metadata": {},
          "output_type": "execute_result"
        }
      ],
      "source": [
        "a"
      ]
    },
    {
      "cell_type": "code",
      "execution_count": 14,
      "metadata": {
        "colab": {
          "base_uri": "https://localhost:8080/"
        },
        "id": "Y3fHkR1gfd1X",
        "outputId": "47902bef-9f1a-4063-a143-346b8122e41c"
      },
      "outputs": [
        {
          "data": {
            "text/plain": [
              "array([ 86,  57,  66,  29,  23,  40,  73,  36,  29,  55,  69,  83,  11,\n",
              "        36,  63, 200])"
            ]
          },
          "execution_count": 14,
          "metadata": {},
          "output_type": "execute_result"
        }
      ],
      "source": [
        "# code\n",
        "np.append(a,200)"
      ]
    },
    {
      "cell_type": "code",
      "execution_count": 15,
      "metadata": {
        "colab": {
          "base_uri": "https://localhost:8080/"
        },
        "id": "vmPc3zS3L2LL",
        "outputId": "65dd3ad6-5ac0-428d-8314-3ddef79a5ca8"
      },
      "outputs": [
        {
          "data": {
            "text/plain": [
              "array([[91, 57, 47,  3],\n",
              "       [94, 73, 65, 46],\n",
              "       [32, 49,  3, 92],\n",
              "       [47, 83, 90, 97],\n",
              "       [88, 89, 55,  5],\n",
              "       [59, 84, 46, 15]])"
            ]
          },
          "execution_count": 15,
          "metadata": {},
          "output_type": "execute_result"
        }
      ],
      "source": [
        "b"
      ]
    },
    {
      "cell_type": "code",
      "execution_count": 16,
      "metadata": {},
      "outputs": [
        {
          "data": {
            "text/plain": [
              "(6, 4)"
            ]
          },
          "execution_count": 16,
          "metadata": {},
          "output_type": "execute_result"
        }
      ],
      "source": [
        "b.shape"
      ]
    },
    {
      "cell_type": "code",
      "execution_count": 17,
      "metadata": {
        "colab": {
          "base_uri": "https://localhost:8080/"
        },
        "id": "LsIvCKQ5L-DB",
        "outputId": "0666183e-2708-4fdc-a24a-f75295fce7d6"
      },
      "outputs": [
        {
          "data": {
            "text/plain": [
              "array([[91.        , 57.        , 47.        ,  3.        ,  0.41067723],\n",
              "       [94.        , 73.        , 65.        , 46.        ,  0.9086885 ],\n",
              "       [32.        , 49.        ,  3.        , 92.        ,  0.45727946],\n",
              "       [47.        , 83.        , 90.        , 97.        ,  0.47282113],\n",
              "       [88.        , 89.        , 55.        ,  5.        ,  0.82037063],\n",
              "       [59.        , 84.        , 46.        , 15.        ,  0.14981509]])"
            ]
          },
          "execution_count": 17,
          "metadata": {},
          "output_type": "execute_result"
        }
      ],
      "source": [
        "np.append(b,np.random.random((b.shape[0],1)),axis=1)\n"
      ]
    },
    {
      "cell_type": "markdown",
      "metadata": {
        "id": "meIMn8T9g5-m"
      },
      "source": [
        "### np.concatenate\n",
        "\n",
        "numpy.concatenate() function concatenate a sequence of arrays along an existing axis.\n",
        "\n",
        "https://numpy.org/doc/stable/reference/generated/numpy.concatenate.html"
      ]
    },
    {
      "cell_type": "code",
      "execution_count": 18,
      "metadata": {
        "colab": {
          "base_uri": "https://localhost:8080/"
        },
        "id": "Nrj1_QXfWZlV",
        "outputId": "af137ccb-5768-49f9-9f47-e6d0286db4de"
      },
      "outputs": [
        {
          "name": "stdout",
          "output_type": "stream",
          "text": [
            "[[0 1 2]\n",
            " [3 4 5]]\n",
            "[[ 6  7  8]\n",
            " [ 9 10 11]]\n"
          ]
        }
      ],
      "source": [
        "# code\n",
        "c = np.arange(6).reshape(2,3)\n",
        "d = np.arange(6,12).reshape(2,3)\n",
        "\n",
        "print(c)\n",
        "print(d)"
      ]
    },
    {
      "cell_type": "code",
      "execution_count": 19,
      "metadata": {
        "colab": {
          "base_uri": "https://localhost:8080/"
        },
        "id": "fDHBrV7VA4yz",
        "outputId": "7b344969-82b8-4fb2-93f6-0fa68c053e96"
      },
      "outputs": [
        {
          "data": {
            "text/plain": [
              "array([[ 0,  1,  2],\n",
              "       [ 3,  4,  5],\n",
              "       [ 6,  7,  8],\n",
              "       [ 9, 10, 11]])"
            ]
          },
          "execution_count": 19,
          "metadata": {},
          "output_type": "execute_result"
        }
      ],
      "source": [
        "np.concatenate((c,d),axis=0)"
      ]
    },
    {
      "cell_type": "code",
      "execution_count": 20,
      "metadata": {
        "colab": {
          "base_uri": "https://localhost:8080/"
        },
        "id": "MwNLX4sKvTX7",
        "outputId": "b1ab3b1a-259f-4432-aa7e-8c8d056e9469"
      },
      "outputs": [
        {
          "data": {
            "text/plain": [
              "array([[ 0,  1,  2],\n",
              "       [ 3,  4,  5],\n",
              "       [ 6,  7,  8],\n",
              "       [ 9, 10, 11]])"
            ]
          },
          "execution_count": 20,
          "metadata": {},
          "output_type": "execute_result"
        }
      ],
      "source": [
        "np.vstack((c,d))"
      ]
    },
    {
      "cell_type": "code",
      "execution_count": 21,
      "metadata": {
        "colab": {
          "base_uri": "https://localhost:8080/"
        },
        "id": "GN9DnJ65Mr_b",
        "outputId": "d2c9858a-6936-44ae-cc24-d7295f7d360b"
      },
      "outputs": [
        {
          "data": {
            "text/plain": [
              "array([[ 0,  1,  2,  6,  7,  8],\n",
              "       [ 3,  4,  5,  9, 10, 11]])"
            ]
          },
          "execution_count": 21,
          "metadata": {},
          "output_type": "execute_result"
        }
      ],
      "source": [
        "np.concatenate((c,d),axis=1)"
      ]
    },
    {
      "cell_type": "code",
      "execution_count": 22,
      "metadata": {
        "colab": {
          "base_uri": "https://localhost:8080/"
        },
        "id": "czOFbxxkvY4U",
        "outputId": "ba51f210-f55a-4908-d7e1-995f74f89cfe"
      },
      "outputs": [
        {
          "data": {
            "text/plain": [
              "array([[ 0,  1,  2,  6,  7,  8],\n",
              "       [ 3,  4,  5,  9, 10, 11]])"
            ]
          },
          "execution_count": 22,
          "metadata": {},
          "output_type": "execute_result"
        }
      ],
      "source": [
        "np.hstack((c,d))"
      ]
    },
    {
      "cell_type": "markdown",
      "metadata": {
        "id": "oHGFqHcohFtB"
      },
      "source": [
        "### np.unique\n",
        "\n",
        "With the help of np.unique() method, we can get the unique values from an array given as parameter in np.unique() method.\n",
        "\n",
        "https://numpy.org/doc/stable/reference/generated/numpy.unique.html/"
      ]
    },
    {
      "cell_type": "code",
      "execution_count": 23,
      "metadata": {
        "id": "NvG0KHpNWdN_"
      },
      "outputs": [],
      "source": [
        "# code\n",
        "e = np.array([1,1,2,2,3,3,4,4,5,5,6,6])"
      ]
    },
    {
      "cell_type": "code",
      "execution_count": 24,
      "metadata": {
        "colab": {
          "base_uri": "https://localhost:8080/"
        },
        "id": "5yIsVpRhvxb3",
        "outputId": "169720ff-5a18-48be-d235-7018a5cb489b"
      },
      "outputs": [
        {
          "data": {
            "text/plain": [
              "array([8, 6, 3, 6, 6, 1, 9, 7, 4, 8, 4, 6, 9, 8, 9, 3, 8, 5, 2, 4, 7, 5,\n",
              "       8, 2, 6, 2, 5, 5, 4, 8, 8, 6, 9, 2, 6, 1, 9, 4, 7, 7, 2, 2, 2, 8,\n",
              "       2, 5, 1, 2, 6, 2])"
            ]
          },
          "execution_count": 24,
          "metadata": {},
          "output_type": "execute_result"
        }
      ],
      "source": [
        "u = np.random.randint(1,10,50)\n",
        "u"
      ]
    },
    {
      "cell_type": "code",
      "execution_count": 25,
      "metadata": {
        "colab": {
          "base_uri": "https://localhost:8080/"
        },
        "id": "XWr932XeCFz1",
        "outputId": "73a82be2-d53a-4c44-b814-d0eec98638de"
      },
      "outputs": [
        {
          "data": {
            "text/plain": [
              "array([1, 2, 3, 4, 5, 6])"
            ]
          },
          "execution_count": 25,
          "metadata": {},
          "output_type": "execute_result"
        }
      ],
      "source": [
        "np.unique(e)"
      ]
    },
    {
      "cell_type": "code",
      "execution_count": 26,
      "metadata": {
        "colab": {
          "base_uri": "https://localhost:8080/"
        },
        "id": "hO9BmQYexC7E",
        "outputId": "aea61551-e47b-4d5c-ded9-859f3830cbbe"
      },
      "outputs": [
        {
          "data": {
            "text/plain": [
              "array([1, 2, 3, 4, 5, 6, 7, 8, 9])"
            ]
          },
          "execution_count": 26,
          "metadata": {},
          "output_type": "execute_result"
        }
      ],
      "source": [
        "np.unique(u)"
      ]
    },
    {
      "cell_type": "markdown",
      "metadata": {
        "id": "Wki2yOXaEZV3"
      },
      "source": [
        "### np.expand_dims\n",
        "\n",
        "With the help of Numpy.expand_dims() method, we can get the expanded dimensions of an array\n",
        "\n",
        "https://numpy.org/doc/stable/reference/generated/numpy.expand_dims.html"
      ]
    },
    {
      "cell_type": "code",
      "execution_count": 27,
      "metadata": {
        "colab": {
          "base_uri": "https://localhost:8080/"
        },
        "id": "9J-M38OlxUZt",
        "outputId": "7307c280-6a20-447a-8276-f0dbd46f5e80"
      },
      "outputs": [
        {
          "data": {
            "text/plain": [
              "array([ 0,  1,  2,  3,  4,  5,  6,  7,  8,  9, 10, 11, 12, 13, 14])"
            ]
          },
          "execution_count": 27,
          "metadata": {},
          "output_type": "execute_result"
        }
      ],
      "source": [
        "a = np.arange(0,15)\n",
        "a"
      ]
    },
    {
      "cell_type": "code",
      "execution_count": 28,
      "metadata": {
        "colab": {
          "base_uri": "https://localhost:8080/"
        },
        "id": "Pyvf-oZ0XTvr",
        "outputId": "52f5fde8-d3fb-4f30-c4f9-dbeaebafeee4"
      },
      "outputs": [
        {
          "data": {
            "text/plain": [
              "(15,)"
            ]
          },
          "execution_count": 28,
          "metadata": {},
          "output_type": "execute_result"
        }
      ],
      "source": [
        "# code\n",
        "a.shape"
      ]
    },
    {
      "cell_type": "code",
      "execution_count": 29,
      "metadata": {
        "colab": {
          "base_uri": "https://localhost:8080/"
        },
        "id": "B-Pk9HNzNdrb",
        "outputId": "342ad31e-5a68-4d3c-e120-960e9434de4f"
      },
      "outputs": [
        {
          "data": {
            "text/plain": [
              "(1, 15)"
            ]
          },
          "execution_count": 29,
          "metadata": {},
          "output_type": "execute_result"
        }
      ],
      "source": [
        "np.expand_dims(a,axis=0).shape\n"
      ]
    },
    {
      "cell_type": "code",
      "execution_count": 30,
      "metadata": {
        "colab": {
          "base_uri": "https://localhost:8080/"
        },
        "id": "5d0Ahp8QNsKO",
        "outputId": "ef60e1c1-0180-41fb-bd97-e28ab89b4960"
      },
      "outputs": [
        {
          "data": {
            "text/plain": [
              "array([[ 0],\n",
              "       [ 1],\n",
              "       [ 2],\n",
              "       [ 3],\n",
              "       [ 4],\n",
              "       [ 5],\n",
              "       [ 6],\n",
              "       [ 7],\n",
              "       [ 8],\n",
              "       [ 9],\n",
              "       [10],\n",
              "       [11],\n",
              "       [12],\n",
              "       [13],\n",
              "       [14]])"
            ]
          },
          "execution_count": 30,
          "metadata": {},
          "output_type": "execute_result"
        }
      ],
      "source": [
        "np.expand_dims(a,axis=1)"
      ]
    },
    {
      "cell_type": "code",
      "execution_count": 31,
      "metadata": {
        "colab": {
          "base_uri": "https://localhost:8080/"
        },
        "id": "9r9NIa3fyCH_",
        "outputId": "a0e94c66-db4c-4f35-e38b-47160fd4844f"
      },
      "outputs": [
        {
          "data": {
            "text/plain": [
              "(15, 1)"
            ]
          },
          "execution_count": 31,
          "metadata": {},
          "output_type": "execute_result"
        }
      ],
      "source": [
        "np.expand_dims(a,axis=1).shape"
      ]
    },
    {
      "cell_type": "markdown",
      "metadata": {
        "id": "_HmpYNTFERjS"
      },
      "source": [
        "### np.where\n",
        "\n",
        "The numpy.where() function returns the indices of elements in an input array where the given condition is satisfied.\n",
        "\n",
        "https://numpy.org/doc/stable/reference/generated/numpy.where.html"
      ]
    },
    {
      "cell_type": "code",
      "execution_count": 32,
      "metadata": {
        "colab": {
          "base_uri": "https://localhost:8080/"
        },
        "id": "H8k_ZDXjEo5W",
        "outputId": "f1ff525d-56d8-42a2-ba13-481aabc6d8f8"
      },
      "outputs": [
        {
          "data": {
            "text/plain": [
              "array([ 5, 86, 32, 54, 82, 24, 25, 44, 55, 31, 32, 79, 31, 15, 37])"
            ]
          },
          "execution_count": 32,
          "metadata": {},
          "output_type": "execute_result"
        }
      ],
      "source": [
        "a = np.random.randint(1,100,15)\n",
        "a"
      ]
    },
    {
      "cell_type": "code",
      "execution_count": 33,
      "metadata": {
        "colab": {
          "base_uri": "https://localhost:8080/"
        },
        "id": "1VVgPV29y8TU",
        "outputId": "8487c1ac-9166-4170-f1a0-355ab37c8ab6"
      },
      "outputs": [
        {
          "data": {
            "text/plain": [
              "array([86, 54, 82, 55, 79])"
            ]
          },
          "execution_count": 33,
          "metadata": {},
          "output_type": "execute_result"
        }
      ],
      "source": [
        "a[a>50]"
      ]
    },
    {
      "cell_type": "code",
      "execution_count": 34,
      "metadata": {
        "colab": {
          "base_uri": "https://localhost:8080/"
        },
        "id": "n9mkvdFdHGLY",
        "outputId": "c57fb17a-e327-45a3-a196-0adc648972a7"
      },
      "outputs": [
        {
          "data": {
            "text/plain": [
              "(array([ 1,  3,  4,  8, 11], dtype=int64),)"
            ]
          },
          "execution_count": 34,
          "metadata": {},
          "output_type": "execute_result"
        }
      ],
      "source": [
        "# find all indices with value greater than 50\n",
        "np.where(a>50)"
      ]
    },
    {
      "cell_type": "code",
      "execution_count": 35,
      "metadata": {
        "colab": {
          "base_uri": "https://localhost:8080/"
        },
        "id": "zJAUufBOHcu1",
        "outputId": "7cba7f79-e78d-49f1-b6d9-44ef28948221"
      },
      "outputs": [
        {
          "data": {
            "text/plain": [
              "array([ 5,  0, 32,  0,  0, 24, 25, 44,  0, 31, 32,  0, 31, 15, 37])"
            ]
          },
          "execution_count": 35,
          "metadata": {},
          "output_type": "execute_result"
        }
      ],
      "source": [
        "# replace all values > 50 with 0\n",
        "np.where(a>50,0,a)"
      ]
    },
    {
      "cell_type": "code",
      "execution_count": 36,
      "metadata": {
        "colab": {
          "base_uri": "https://localhost:8080/"
        },
        "id": "Ygx7fC0BPP9e",
        "outputId": "983abb39-8e59-4a4e-d5a3-c93c04b78311"
      },
      "outputs": [
        {
          "data": {
            "text/plain": [
              "array([ 5,  0,  0,  0,  0,  0, 25,  0, 55, 31,  0, 79, 31, 15, 37])"
            ]
          },
          "execution_count": 36,
          "metadata": {},
          "output_type": "execute_result"
        }
      ],
      "source": [
        "np.where(a%2 == 0,0,a)"
      ]
    },
    {
      "cell_type": "markdown",
      "metadata": {
        "id": "jsGIGNtCIS5-"
      },
      "source": [
        "### np.argmax\n",
        "\n",
        "The numpy.argmax() function returns indices of the max element of the array in a particular axis.\n",
        "\n",
        "https://numpy.org/doc/stable/reference/generated/numpy.argmax.html"
      ]
    },
    {
      "cell_type": "code",
      "execution_count": 37,
      "metadata": {
        "colab": {
          "base_uri": "https://localhost:8080/"
        },
        "id": "8YlXmMuaIRpj",
        "outputId": "11b6d158-3700-49ed-ceaf-1f1b80924e03"
      },
      "outputs": [
        {
          "data": {
            "text/plain": [
              "array([ 5, 86, 32, 54, 82, 24, 25, 44, 55, 31, 32, 79, 31, 15, 37])"
            ]
          },
          "execution_count": 37,
          "metadata": {},
          "output_type": "execute_result"
        }
      ],
      "source": [
        "# code\n",
        "a"
      ]
    },
    {
      "cell_type": "code",
      "execution_count": 38,
      "metadata": {
        "colab": {
          "base_uri": "https://localhost:8080/"
        },
        "id": "gdrU6cQ9Pn_A",
        "outputId": "9b14d770-1305-4ca5-b49e-dc32480b0336"
      },
      "outputs": [
        {
          "data": {
            "text/plain": [
              "1"
            ]
          },
          "execution_count": 38,
          "metadata": {},
          "output_type": "execute_result"
        }
      ],
      "source": [
        "np.argmax(a)"
      ]
    },
    {
      "cell_type": "code",
      "execution_count": 39,
      "metadata": {},
      "outputs": [
        {
          "data": {
            "text/plain": [
              "24"
            ]
          },
          "execution_count": 39,
          "metadata": {},
          "output_type": "execute_result"
        }
      ],
      "source": [
        "a[5]"
      ]
    },
    {
      "cell_type": "code",
      "execution_count": 40,
      "metadata": {
        "colab": {
          "base_uri": "https://localhost:8080/"
        },
        "id": "IHmf9NY510qO",
        "outputId": "4f281d06-d9f6-4585-b7e0-f1b99111ecda"
      },
      "outputs": [
        {
          "data": {
            "text/plain": [
              "0"
            ]
          },
          "execution_count": 40,
          "metadata": {},
          "output_type": "execute_result"
        }
      ],
      "source": [
        "np.argmin(a)"
      ]
    },
    {
      "cell_type": "code",
      "execution_count": 41,
      "metadata": {
        "id": "CohggNGrP5am"
      },
      "outputs": [],
      "source": [
        "b = np.round(np.random.random(64).reshape(8,8)*100,0)"
      ]
    },
    {
      "cell_type": "code",
      "execution_count": 42,
      "metadata": {
        "colab": {
          "base_uri": "https://localhost:8080/"
        },
        "id": "UEqchhJG463H",
        "outputId": "744e8e79-a974-4267-fb55-5036d80eab5b"
      },
      "outputs": [
        {
          "data": {
            "text/plain": [
              "array([[70., 37., 97., 31., 60., 28., 79., 28.],\n",
              "       [49., 18., 53., 90., 44., 56., 63., 29.],\n",
              "       [56., 26., 75., 95.,  3., 60., 31., 45.],\n",
              "       [53.,  2., 12., 36., 44., 86., 90., 19.],\n",
              "       [25., 53., 50., 50., 59., 91., 38., 94.],\n",
              "       [ 5., 37., 43., 86., 84.,  5., 69., 58.],\n",
              "       [ 8., 37., 38., 30.,  7., 82., 82., 72.],\n",
              "       [57., 96., 62., 13., 88., 88., 68., 23.]])"
            ]
          },
          "execution_count": 42,
          "metadata": {},
          "output_type": "execute_result"
        }
      ],
      "source": [
        "b"
      ]
    },
    {
      "cell_type": "code",
      "execution_count": 43,
      "metadata": {
        "colab": {
          "base_uri": "https://localhost:8080/"
        },
        "id": "QWrT2FGc4WXr",
        "outputId": "4a2788bf-bfa2-46fb-cd96-905afb2d85ab"
      },
      "outputs": [
        {
          "data": {
            "text/plain": [
              "64"
            ]
          },
          "execution_count": 43,
          "metadata": {},
          "output_type": "execute_result"
        }
      ],
      "source": [
        "np.size(b)"
      ]
    },
    {
      "cell_type": "code",
      "execution_count": 44,
      "metadata": {
        "colab": {
          "base_uri": "https://localhost:8080/"
        },
        "id": "435CD24aIpNA",
        "outputId": "c1eb4900-1fbd-4e9c-8d13-f1d95cd7db43"
      },
      "outputs": [
        {
          "data": {
            "text/plain": [
              "array([0, 7, 0, 2, 7, 4, 3, 4], dtype=int64)"
            ]
          },
          "execution_count": 44,
          "metadata": {},
          "output_type": "execute_result"
        }
      ],
      "source": [
        "np.argmax(b,axis=0)"
      ]
    },
    {
      "cell_type": "code",
      "execution_count": 45,
      "metadata": {
        "colab": {
          "base_uri": "https://localhost:8080/"
        },
        "id": "PBuZH3mbQE1U",
        "outputId": "b7f35668-4bc1-4954-afcf-b9684eeeacc5"
      },
      "outputs": [
        {
          "data": {
            "text/plain": [
              "array([2, 3, 3, 6, 7, 3, 5, 1], dtype=int64)"
            ]
          },
          "execution_count": 45,
          "metadata": {},
          "output_type": "execute_result"
        }
      ],
      "source": [
        "np.argmax(b,axis=1)"
      ]
    },
    {
      "cell_type": "markdown",
      "metadata": {
        "id": "1OdKi27pa091"
      },
      "source": [
        "### np.cumsum\n",
        "\n",
        "numpy.cumsum() function is used when we want to compute the cumulative sum of array elements over a given axis.\n",
        "\n",
        "https://numpy.org/doc/stable/reference/generated/numpy.cumsum.html"
      ]
    },
    {
      "cell_type": "code",
      "execution_count": 46,
      "metadata": {
        "colab": {
          "base_uri": "https://localhost:8080/"
        },
        "id": "VZmQUWH9bDk_",
        "outputId": "d634d8b1-ac10-4a28-e7d7-764e9d2d2484"
      },
      "outputs": [
        {
          "data": {
            "text/plain": [
              "array([ 5, 86, 32, 54, 82, 24, 25, 44, 55, 31, 32, 79, 31, 15, 37])"
            ]
          },
          "execution_count": 46,
          "metadata": {},
          "output_type": "execute_result"
        }
      ],
      "source": [
        "a"
      ]
    },
    {
      "cell_type": "code",
      "execution_count": 47,
      "metadata": {
        "colab": {
          "base_uri": "https://localhost:8080/"
        },
        "id": "O0npD0R_RF-A",
        "outputId": "c2d818ca-75b9-4267-edda-e15a24353700"
      },
      "outputs": [
        {
          "data": {
            "text/plain": [
              "array([  5,  91, 123, 177, 259, 283, 308, 352, 407, 438, 470, 549, 580,\n",
              "       595, 632])"
            ]
          },
          "execution_count": 47,
          "metadata": {},
          "output_type": "execute_result"
        }
      ],
      "source": [
        "np.cumsum(a)"
      ]
    },
    {
      "cell_type": "code",
      "execution_count": 48,
      "metadata": {
        "colab": {
          "base_uri": "https://localhost:8080/"
        },
        "id": "Ypr5nUGxRJuO",
        "outputId": "11de63aa-9f58-40f6-8d2e-bb96af4b5d8d"
      },
      "outputs": [
        {
          "data": {
            "text/plain": [
              "array([[70., 37., 97., 31., 60., 28., 79., 28.],\n",
              "       [49., 18., 53., 90., 44., 56., 63., 29.],\n",
              "       [56., 26., 75., 95.,  3., 60., 31., 45.],\n",
              "       [53.,  2., 12., 36., 44., 86., 90., 19.],\n",
              "       [25., 53., 50., 50., 59., 91., 38., 94.],\n",
              "       [ 5., 37., 43., 86., 84.,  5., 69., 58.],\n",
              "       [ 8., 37., 38., 30.,  7., 82., 82., 72.],\n",
              "       [57., 96., 62., 13., 88., 88., 68., 23.]])"
            ]
          },
          "execution_count": 48,
          "metadata": {},
          "output_type": "execute_result"
        }
      ],
      "source": [
        "b"
      ]
    },
    {
      "cell_type": "code",
      "execution_count": 49,
      "metadata": {
        "colab": {
          "base_uri": "https://localhost:8080/"
        },
        "id": "HpUzi1dZ5hlj",
        "outputId": "6baa1f89-342a-45a2-c041-573de55cb715"
      },
      "outputs": [
        {
          "data": {
            "text/plain": [
              "array([  70.,  107.,  204.,  235.,  295.,  323.,  402.,  430.,  479.,\n",
              "        497.,  550.,  640.,  684.,  740.,  803.,  832.,  888.,  914.,\n",
              "        989., 1084., 1087., 1147., 1178., 1223., 1276., 1278., 1290.,\n",
              "       1326., 1370., 1456., 1546., 1565., 1590., 1643., 1693., 1743.,\n",
              "       1802., 1893., 1931., 2025., 2030., 2067., 2110., 2196., 2280.,\n",
              "       2285., 2354., 2412., 2420., 2457., 2495., 2525., 2532., 2614.,\n",
              "       2696., 2768., 2825., 2921., 2983., 2996., 3084., 3172., 3240.,\n",
              "       3263.])"
            ]
          },
          "execution_count": 49,
          "metadata": {},
          "output_type": "execute_result"
        }
      ],
      "source": [
        "np.cumsum(b)"
      ]
    },
    {
      "cell_type": "code",
      "execution_count": 50,
      "metadata": {
        "colab": {
          "base_uri": "https://localhost:8080/"
        },
        "id": "WXRZyWT9RTMw",
        "outputId": "0c2633f5-4a68-4ae2-a2b0-67294505cafe"
      },
      "outputs": [
        {
          "data": {
            "text/plain": [
              "array([[ 70., 107., 204., 235., 295., 323., 402., 430.],\n",
              "       [ 49.,  67., 120., 210., 254., 310., 373., 402.],\n",
              "       [ 56.,  82., 157., 252., 255., 315., 346., 391.],\n",
              "       [ 53.,  55.,  67., 103., 147., 233., 323., 342.],\n",
              "       [ 25.,  78., 128., 178., 237., 328., 366., 460.],\n",
              "       [  5.,  42.,  85., 171., 255., 260., 329., 387.],\n",
              "       [  8.,  45.,  83., 113., 120., 202., 284., 356.],\n",
              "       [ 57., 153., 215., 228., 316., 404., 472., 495.]])"
            ]
          },
          "execution_count": 50,
          "metadata": {},
          "output_type": "execute_result"
        }
      ],
      "source": [
        "np.cumsum(b,axis=1)"
      ]
    },
    {
      "cell_type": "code",
      "execution_count": 51,
      "metadata": {
        "colab": {
          "base_uri": "https://localhost:8080/"
        },
        "id": "5WGkAjfjRNOe",
        "outputId": "11e7aaec-7bd0-4e55-fce2-b22b9e7f2465"
      },
      "outputs": [
        {
          "data": {
            "text/plain": [
              "array([[ 70.,  37.,  97.,  31.,  60.,  28.,  79.,  28.],\n",
              "       [119.,  55., 150., 121., 104.,  84., 142.,  57.],\n",
              "       [175.,  81., 225., 216., 107., 144., 173., 102.],\n",
              "       [228.,  83., 237., 252., 151., 230., 263., 121.],\n",
              "       [253., 136., 287., 302., 210., 321., 301., 215.],\n",
              "       [258., 173., 330., 388., 294., 326., 370., 273.],\n",
              "       [266., 210., 368., 418., 301., 408., 452., 345.],\n",
              "       [323., 306., 430., 431., 389., 496., 520., 368.]])"
            ]
          },
          "execution_count": 51,
          "metadata": {},
          "output_type": "execute_result"
        }
      ],
      "source": [
        "np.cumsum(b,axis=0)"
      ]
    },
    {
      "cell_type": "code",
      "execution_count": 52,
      "metadata": {
        "colab": {
          "base_uri": "https://localhost:8080/"
        },
        "id": "HWn09CqW6JZY",
        "outputId": "e975aa67-4596-4a06-b69b-7a4fa748c444"
      },
      "outputs": [
        {
          "data": {
            "text/plain": [
              "array([ 5, 86, 32, 54, 82, 24, 25, 44, 55, 31, 32, 79, 31, 15, 37])"
            ]
          },
          "execution_count": 52,
          "metadata": {},
          "output_type": "execute_result"
        }
      ],
      "source": [
        "a"
      ]
    },
    {
      "cell_type": "code",
      "execution_count": 53,
      "metadata": {
        "colab": {
          "base_uri": "https://localhost:8080/"
        },
        "id": "RtGuPGr9WlVV",
        "outputId": "d6d7d6e5-5ebf-44b4-e4c3-40d17e8e2659"
      },
      "outputs": [
        {
          "data": {
            "text/plain": [
              "array([          5,         430,       13760,      743040,    60929280,\n",
              "        1462302720, -2097137664, -2079744000,  1578196992,  1679466496,\n",
              "       -2091646976, -2031353856,  1452539904,   313262080, -1294204928])"
            ]
          },
          "execution_count": 53,
          "metadata": {},
          "output_type": "execute_result"
        }
      ],
      "source": [
        "# np.cumprod\n",
        "np.cumprod(a)"
      ]
    },
    {
      "cell_type": "code",
      "execution_count": 54,
      "metadata": {
        "colab": {
          "base_uri": "https://localhost:8080/"
        },
        "id": "np9Bb7N26Mi9",
        "outputId": "269f384a-3810-43e6-f529-aa3e22b12e2f"
      },
      "outputs": [
        {
          "data": {
            "text/plain": [
              "array([[70., 37., 97., 31., 60., 28., 79., 28.],\n",
              "       [49., 18., 53., 90., 44., 56., 63., 29.],\n",
              "       [56., 26., 75., 95.,  3., 60., 31., 45.],\n",
              "       [53.,  2., 12., 36., 44., 86., 90., 19.],\n",
              "       [25., 53., 50., 50., 59., 91., 38., 94.],\n",
              "       [ 5., 37., 43., 86., 84.,  5., 69., 58.],\n",
              "       [ 8., 37., 38., 30.,  7., 82., 82., 72.],\n",
              "       [57., 96., 62., 13., 88., 88., 68., 23.]])"
            ]
          },
          "execution_count": 54,
          "metadata": {},
          "output_type": "execute_result"
        }
      ],
      "source": [
        "b"
      ]
    },
    {
      "cell_type": "code",
      "execution_count": 55,
      "metadata": {
        "colab": {
          "base_uri": "https://localhost:8080/"
        },
        "id": "IWpOzBMW55CO",
        "outputId": "ce453fb5-adc4-49cb-9cf3-27d73c47a58c"
      },
      "outputs": [
        {
          "data": {
            "text/plain": [
              "array([[7.00000000e+01, 2.59000000e+03, 2.51230000e+05, 7.78813000e+06,\n",
              "        4.67287800e+08, 1.30840584e+10, 1.03364061e+12, 2.89419372e+13],\n",
              "       [4.90000000e+01, 8.82000000e+02, 4.67460000e+04, 4.20714000e+06,\n",
              "        1.85114160e+08, 1.03663930e+10, 6.53082756e+11, 1.89393999e+13],\n",
              "       [5.60000000e+01, 1.45600000e+03, 1.09200000e+05, 1.03740000e+07,\n",
              "        3.11220000e+07, 1.86732000e+09, 5.78869200e+10, 2.60491140e+12],\n",
              "       [5.30000000e+01, 1.06000000e+02, 1.27200000e+03, 4.57920000e+04,\n",
              "        2.01484800e+06, 1.73276928e+08, 1.55949235e+10, 2.96303547e+11],\n",
              "       [2.50000000e+01, 1.32500000e+03, 6.62500000e+04, 3.31250000e+06,\n",
              "        1.95437500e+08, 1.77848125e+10, 6.75822875e+11, 6.35273502e+13],\n",
              "       [5.00000000e+00, 1.85000000e+02, 7.95500000e+03, 6.84130000e+05,\n",
              "        5.74669200e+07, 2.87334600e+08, 1.98260874e+10, 1.14991307e+12],\n",
              "       [8.00000000e+00, 2.96000000e+02, 1.12480000e+04, 3.37440000e+05,\n",
              "        2.36208000e+06, 1.93690560e+08, 1.58826259e+10, 1.14354907e+12],\n",
              "       [5.70000000e+01, 5.47200000e+03, 3.39264000e+05, 4.41043200e+06,\n",
              "        3.88118016e+08, 3.41543854e+10, 2.32249821e+12, 5.34174588e+13]])"
            ]
          },
          "execution_count": 55,
          "metadata": {},
          "output_type": "execute_result"
        }
      ],
      "source": [
        "np.cumprod(b,axis=1)"
      ]
    },
    {
      "cell_type": "code",
      "execution_count": 56,
      "metadata": {
        "colab": {
          "base_uri": "https://localhost:8080/"
        },
        "id": "8kdxzQXiRMOS",
        "outputId": "3b07e94c-9de7-4e21-a440-241ee8bf8509"
      },
      "outputs": [
        {
          "data": {
            "text/plain": [
              "array([ 5, 86, 32, 54, 82, 24, 25, 44, 55, 31, 32, 79, 31, 15, 37])"
            ]
          },
          "execution_count": 56,
          "metadata": {},
          "output_type": "execute_result"
        }
      ],
      "source": [
        "a"
      ]
    },
    {
      "cell_type": "markdown",
      "metadata": {
        "id": "SIuRwLMjcnOl"
      },
      "source": [
        "### np.percentile\n",
        "\n",
        "numpy.percentile()function used to compute the nth percentile of the given data (array elements) along the specified axis.\n",
        "\n",
        "https://numpy.org/doc/stable/reference/generated/numpy.percentile.html"
      ]
    },
    {
      "cell_type": "code",
      "execution_count": 57,
      "metadata": {
        "colab": {
          "base_uri": "https://localhost:8080/"
        },
        "id": "_o8iH4Evcl8C",
        "outputId": "574eb5d9-0edb-450a-fc34-5e7b8d861874"
      },
      "outputs": [
        {
          "data": {
            "text/plain": [
              "array([ 5, 86, 32, 54, 82, 24, 25, 44, 55, 31, 32, 79, 31, 15, 37])"
            ]
          },
          "execution_count": 57,
          "metadata": {},
          "output_type": "execute_result"
        }
      ],
      "source": [
        "a"
      ]
    },
    {
      "cell_type": "code",
      "execution_count": 58,
      "metadata": {
        "colab": {
          "base_uri": "https://localhost:8080/"
        },
        "id": "gBH8ZvtrSND9",
        "outputId": "e093c71e-2754-4a74-85b4-b725c5ccacca"
      },
      "outputs": [
        {
          "data": {
            "text/plain": [
              "32.0"
            ]
          },
          "execution_count": 58,
          "metadata": {},
          "output_type": "execute_result"
        }
      ],
      "source": [
        "np.percentile(a,50)"
      ]
    },
    {
      "cell_type": "code",
      "execution_count": 59,
      "metadata": {
        "colab": {
          "base_uri": "https://localhost:8080/"
        },
        "id": "2Cy1y24n6daT",
        "outputId": "76e997f3-9cbd-4fd7-890b-012e21287840"
      },
      "outputs": [
        {
          "data": {
            "text/plain": [
              "35.49999999999999"
            ]
          },
          "execution_count": 59,
          "metadata": {},
          "output_type": "execute_result"
        }
      ],
      "source": [
        "np.percentile(b,30)"
      ]
    },
    {
      "cell_type": "code",
      "execution_count": 60,
      "metadata": {
        "colab": {
          "base_uri": "https://localhost:8080/"
        },
        "id": "KLIhMJSTScTy",
        "outputId": "e2191d0d-42d6-4452-d968-d0af55db12d6"
      },
      "outputs": [
        {
          "data": {
            "text/plain": [
              "32.0"
            ]
          },
          "execution_count": 60,
          "metadata": {},
          "output_type": "execute_result"
        }
      ],
      "source": [
        "np.median(a)"
      ]
    },
    {
      "cell_type": "markdown",
      "metadata": {
        "id": "2C6nGaJHev5N"
      },
      "source": [
        "### np.histogram\n",
        "\n",
        "Numpy has a built-in numpy.histogram() function which represents the frequency of data distribution in the graphical form.\n",
        "\n",
        "https://numpy.org/doc/stable/reference/generated/numpy.histogram.html"
      ]
    },
    {
      "cell_type": "code",
      "execution_count": 61,
      "metadata": {
        "colab": {
          "base_uri": "https://localhost:8080/"
        },
        "id": "S2pFLU5ZWuTx",
        "outputId": "ce34e8f9-f8b6-4433-cc6b-9317aae884cf"
      },
      "outputs": [
        {
          "data": {
            "text/plain": [
              "array([ 5, 86, 32, 54, 82, 24, 25, 44, 55, 31, 32, 79, 31, 15, 37])"
            ]
          },
          "execution_count": 61,
          "metadata": {},
          "output_type": "execute_result"
        }
      ],
      "source": [
        "# code\n",
        "a"
      ]
    },
    {
      "cell_type": "code",
      "execution_count": 62,
      "metadata": {
        "colab": {
          "base_uri": "https://localhost:8080/"
        },
        "id": "wZlQuOFpSbE3",
        "outputId": "35c95f85-3e4f-487c-8acb-50c54e30ed21"
      },
      "outputs": [
        {
          "data": {
            "text/plain": [
              "(array([1, 1, 2, 5, 1, 2, 0, 1, 2, 0], dtype=int64),\n",
              " array([  0,  10,  20,  30,  40,  50,  60,  70,  80,  90, 100]))"
            ]
          },
          "execution_count": 62,
          "metadata": {},
          "output_type": "execute_result"
        }
      ],
      "source": [
        "np.histogram(a,bins=[0,10,20,30,40,50,60,70,80,90,100])"
      ]
    },
    {
      "cell_type": "markdown",
      "metadata": {
        "id": "JxgMS0Zef8oQ"
      },
      "source": [
        "### np.corrcoef\n",
        "\n",
        "Return Pearson product-moment correlation coefficients.\n",
        "\n",
        "https://numpy.org/doc/stable/reference/generated/numpy.corrcoef.html"
      ]
    },
    {
      "cell_type": "code",
      "execution_count": 63,
      "metadata": {
        "colab": {
          "base_uri": "https://localhost:8080/"
        },
        "id": "ZAMnvEm5WyUp",
        "outputId": "c43e53db-8683-47f9-8764-8b4c4a89495a"
      },
      "outputs": [
        {
          "data": {
            "text/plain": [
              "array([[1.        , 0.25344572],\n",
              "       [0.25344572, 1.        ]])"
            ]
          },
          "execution_count": 63,
          "metadata": {},
          "output_type": "execute_result"
        }
      ],
      "source": [
        "salary = np.array([20000,40000,25000,35000,60000])\n",
        "experience = np.array([1,3,2,4,2])\n",
        "\n",
        "np.corrcoef(salary,experience)"
      ]
    },
    {
      "cell_type": "markdown",
      "metadata": {
        "id": "Ot4h1PdGh-vI"
      },
      "source": [
        "### np.isin\n",
        "\n",
        "With the help of numpy.isin() method, we can see that one array having values are checked in a different numpy array having different elements with different sizes.\n",
        "\n",
        "https://numpy.org/doc/stable/reference/generated/numpy.isin.html"
      ]
    },
    {
      "cell_type": "code",
      "execution_count": 64,
      "metadata": {
        "colab": {
          "base_uri": "https://localhost:8080/"
        },
        "id": "oyyVo0qnW2Cz",
        "outputId": "2fab6193-354d-4df4-d18e-f5fbd95d0868"
      },
      "outputs": [
        {
          "data": {
            "text/plain": [
              "array([ 5, 86, 32, 54, 82, 24, 25, 44, 55, 31, 32, 79, 31, 15, 37])"
            ]
          },
          "execution_count": 64,
          "metadata": {},
          "output_type": "execute_result"
        }
      ],
      "source": [
        "# code\n",
        "a\n"
      ]
    },
    {
      "cell_type": "markdown",
      "metadata": {
        "id": "-j9ii-0qbu88"
      },
      "source": [
        "isin is used to check multiple items are in the aray or not"
      ]
    },
    {
      "cell_type": "code",
      "execution_count": 65,
      "metadata": {
        "colab": {
          "base_uri": "https://localhost:8080/"
        },
        "id": "lLA0c9z2VE3O",
        "outputId": "1dbfb584-9e74-433b-b905-74644172b49e"
      },
      "outputs": [
        {
          "data": {
            "text/plain": [
              "array([], dtype=int32)"
            ]
          },
          "execution_count": 65,
          "metadata": {},
          "output_type": "execute_result"
        }
      ],
      "source": [
        "items = [10,20,30,40,50,60,70,80,90,100]\n",
        "\n",
        "a[np.isin(a,items)]"
      ]
    },
    {
      "cell_type": "markdown",
      "metadata": {
        "id": "8VKXXRjmicT-"
      },
      "source": [
        "### np.flip\n",
        "\n",
        "The numpy.flip() function reverses the order of array elements along the specified axis, preserving the shape of the array.\n",
        "\n",
        "https://numpy.org/doc/stable/reference/generated/numpy.flip.html"
      ]
    },
    {
      "cell_type": "code",
      "execution_count": 66,
      "metadata": {
        "colab": {
          "base_uri": "https://localhost:8080/"
        },
        "id": "lMreAl7yEvBa",
        "outputId": "88c5e9c2-d6b2-4581-8437-a39e57b35739"
      },
      "outputs": [
        {
          "data": {
            "text/plain": [
              "array([ 5, 86, 32, 54, 82, 24, 25, 44, 55, 31, 32, 79, 31, 15, 37])"
            ]
          },
          "execution_count": 66,
          "metadata": {},
          "output_type": "execute_result"
        }
      ],
      "source": [
        "# code\n",
        "a"
      ]
    },
    {
      "cell_type": "code",
      "execution_count": 67,
      "metadata": {
        "colab": {
          "base_uri": "https://localhost:8080/"
        },
        "id": "1HHfKnFCY04S",
        "outputId": "fa424645-9f88-4a9b-cce4-1d8cd54377d5"
      },
      "outputs": [
        {
          "data": {
            "text/plain": [
              "array([37, 15, 31, 79, 32, 31, 55, 44, 25, 24, 82, 54, 32, 86,  5])"
            ]
          },
          "execution_count": 67,
          "metadata": {},
          "output_type": "execute_result"
        }
      ],
      "source": [
        "b = a[::-1]\n",
        "b"
      ]
    },
    {
      "cell_type": "code",
      "execution_count": 68,
      "metadata": {
        "colab": {
          "base_uri": "https://localhost:8080/"
        },
        "id": "82l_pzDbVfNp",
        "outputId": "42f9c46a-7f7f-49cf-e44e-3f3eed2c1717"
      },
      "outputs": [
        {
          "data": {
            "text/plain": [
              "array([37, 15, 31, 79, 32, 31, 55, 44, 25, 24, 82, 54, 32, 86,  5])"
            ]
          },
          "execution_count": 68,
          "metadata": {},
          "output_type": "execute_result"
        }
      ],
      "source": [
        "np.flip(a)"
      ]
    },
    {
      "cell_type": "code",
      "execution_count": 69,
      "metadata": {
        "colab": {
          "base_uri": "https://localhost:8080/"
        },
        "id": "cpIgnR3PY-Ls",
        "outputId": "963fb518-b931-43bc-e9c3-ad34a6c889db"
      },
      "outputs": [
        {
          "name": "stdout",
          "output_type": "stream",
          "text": [
            "[ True  True  True  True  True  True  True  True  True  True  True  True\n",
            "  True  True  True]\n"
          ]
        }
      ],
      "source": [
        "print(b==np.flip(a))"
      ]
    },
    {
      "cell_type": "code",
      "execution_count": 70,
      "metadata": {
        "colab": {
          "base_uri": "https://localhost:8080/"
        },
        "id": "nWp3PQ87Vkin",
        "outputId": "ee20b5d2-9613-4d4b-cd6b-67c0e91ae2d0"
      },
      "outputs": [
        {
          "data": {
            "text/plain": [
              "array([[33, 48, 12, 19, 36],\n",
              "       [37,  3, 68, 85, 18],\n",
              "       [69, 58, 99, 52, 45],\n",
              "       [35, 57,  9, 55, 65],\n",
              "       [80,  8, 15, 86, 97]])"
            ]
          },
          "execution_count": 70,
          "metadata": {},
          "output_type": "execute_result"
        }
      ],
      "source": [
        "b = np.random.randint(1,100,25).reshape(5,5)\n",
        "b"
      ]
    },
    {
      "cell_type": "code",
      "execution_count": 71,
      "metadata": {
        "colab": {
          "base_uri": "https://localhost:8080/"
        },
        "id": "UOU3WOBwVm59",
        "outputId": "d99594ed-6696-4b61-afc0-30249ca1bb48"
      },
      "outputs": [
        {
          "data": {
            "text/plain": [
              "array([[36, 19, 12, 48, 33],\n",
              "       [18, 85, 68,  3, 37],\n",
              "       [45, 52, 99, 58, 69],\n",
              "       [65, 55,  9, 57, 35],\n",
              "       [97, 86, 15,  8, 80]])"
            ]
          },
          "execution_count": 71,
          "metadata": {},
          "output_type": "execute_result"
        }
      ],
      "source": [
        "np.flip(b,axis=1)"
      ]
    },
    {
      "cell_type": "code",
      "execution_count": 72,
      "metadata": {
        "colab": {
          "base_uri": "https://localhost:8080/"
        },
        "id": "vNeg9UxVZdGO",
        "outputId": "37926b1a-1d47-408c-fbc5-4cfebc15657b"
      },
      "outputs": [
        {
          "data": {
            "text/plain": [
              "array([[80,  8, 15, 86, 97],\n",
              "       [35, 57,  9, 55, 65],\n",
              "       [69, 58, 99, 52, 45],\n",
              "       [37,  3, 68, 85, 18],\n",
              "       [33, 48, 12, 19, 36]])"
            ]
          },
          "execution_count": 72,
          "metadata": {},
          "output_type": "execute_result"
        }
      ],
      "source": [
        "np.flip(b,axis=0)"
      ]
    },
    {
      "cell_type": "markdown",
      "metadata": {
        "id": "n7jTKF2QjIz4"
      },
      "source": [
        "### np.put\n",
        "\n",
        "The numpy.put() function replaces specific elements of an array with given values of p_array. Array indexed works on flattened array.\n",
        "\n",
        "https://numpy.org/doc/stable/reference/generated/numpy.put.html"
      ]
    },
    {
      "cell_type": "code",
      "execution_count": 73,
      "metadata": {
        "colab": {
          "base_uri": "https://localhost:8080/"
        },
        "id": "xZrJHzr0E0zN",
        "outputId": "7d558f3c-ed11-44b4-d466-afa2cac57f65"
      },
      "outputs": [
        {
          "data": {
            "text/plain": [
              "array([ 5, 86, 32, 54, 82, 24, 25, 44, 55, 31, 32, 79, 31, 15, 37])"
            ]
          },
          "execution_count": 73,
          "metadata": {},
          "output_type": "execute_result"
        }
      ],
      "source": [
        "# code\n",
        "a"
      ]
    },
    {
      "cell_type": "markdown",
      "metadata": {
        "id": "hEqE-EdWbmM2"
      },
      "source": [
        "put can be undestood as replace but multilple items at a time"
      ]
    },
    {
      "cell_type": "code",
      "execution_count": 74,
      "metadata": {
        "colab": {
          "base_uri": "https://localhost:8080/"
        },
        "id": "dtl97d4SWHUG",
        "outputId": "d5fce32d-731e-4491-f62a-7be622d657a0"
      },
      "outputs": [
        {
          "data": {
            "text/plain": [
              "array([12, 35, 32, 54, 82, 24, 25, 44, 55, 31, 32, 79, 31, 15, 37])"
            ]
          },
          "execution_count": 74,
          "metadata": {},
          "output_type": "execute_result"
        }
      ],
      "source": [
        "np.put(a,[0,1],[12,35])\n",
        "a"
      ]
    },
    {
      "cell_type": "markdown",
      "metadata": {
        "id": "lYkpJg3kpSWB"
      },
      "source": [
        "### np.delete\n",
        "\n",
        "The numpy.delete() function returns a new array with the deletion of sub-arrays along with the mentioned axis.\n",
        "\n",
        "https://numpy.org/doc/stable/reference/generated/numpy.delete.html"
      ]
    },
    {
      "cell_type": "markdown",
      "metadata": {
        "id": "PqbYgRUQcQuW"
      },
      "source": [
        "delete is used to delete multiple items from the array ..... its just like the list.delete"
      ]
    },
    {
      "cell_type": "code",
      "execution_count": 75,
      "metadata": {
        "colab": {
          "base_uri": "https://localhost:8080/"
        },
        "id": "VmGLdiy5pQXc",
        "outputId": "a55d6744-02ae-49f8-f9f1-0cc0d9ec095c"
      },
      "outputs": [
        {
          "data": {
            "text/plain": [
              "array([12, 35, 32, 54, 82, 24, 25, 44, 55, 31, 32, 79, 31, 15, 37])"
            ]
          },
          "execution_count": 75,
          "metadata": {},
          "output_type": "execute_result"
        }
      ],
      "source": [
        "# code\n",
        "a"
      ]
    },
    {
      "cell_type": "code",
      "execution_count": 76,
      "metadata": {
        "colab": {
          "base_uri": "https://localhost:8080/"
        },
        "id": "A5Dp974mWeWd",
        "outputId": "95a87a4a-c639-444f-aa6f-ec1160b8987d"
      },
      "outputs": [
        {
          "data": {
            "text/plain": [
              "array([35, 54, 24, 25, 44, 55, 31, 32, 79, 31, 15, 37])"
            ]
          },
          "execution_count": 76,
          "metadata": {},
          "output_type": "execute_result"
        }
      ],
      "source": [
        "np.delete(a,[0,2,4])"
      ]
    },
    {
      "cell_type": "markdown",
      "metadata": {
        "id": "Ei94MbFbrjvx"
      },
      "source": [
        "### Set functions\n",
        "\n",
        "- np.union1d\n",
        "- np.intersect1d\n",
        "- np.setdiff1d\n",
        "- np.setxor1d\n",
        "- np.in1d"
      ]
    },
    {
      "cell_type": "code",
      "execution_count": 77,
      "metadata": {
        "colab": {
          "base_uri": "https://localhost:8080/"
        },
        "id": "hHSwzU1irY0f",
        "outputId": "3b2a9dd2-5b71-457e-e4f7-40b56ea9ef35"
      },
      "outputs": [
        {
          "data": {
            "text/plain": [
              "array([1, 2, 3, 4, 5, 6, 7])"
            ]
          },
          "execution_count": 77,
          "metadata": {},
          "output_type": "execute_result"
        }
      ],
      "source": [
        "m = np.array([1,2,3,4,5])\n",
        "n = np.array([3,4,5,6,7])\n",
        "\n",
        "np.union1d(m,n)"
      ]
    },
    {
      "cell_type": "code",
      "execution_count": 78,
      "metadata": {
        "colab": {
          "base_uri": "https://localhost:8080/"
        },
        "id": "XSIuF3zWXZXP",
        "outputId": "9f929e06-17ef-4990-c949-d12d26c84140"
      },
      "outputs": [
        {
          "data": {
            "text/plain": [
              "array([3, 4, 5])"
            ]
          },
          "execution_count": 78,
          "metadata": {},
          "output_type": "execute_result"
        }
      ],
      "source": [
        "np.intersect1d(m,n)"
      ]
    },
    {
      "cell_type": "code",
      "execution_count": 79,
      "metadata": {
        "colab": {
          "base_uri": "https://localhost:8080/"
        },
        "id": "HhGH8cskXgR5",
        "outputId": "49acb282-f560-4dda-abd4-b6653518e7a4"
      },
      "outputs": [
        {
          "data": {
            "text/plain": [
              "array([6, 7])"
            ]
          },
          "execution_count": 79,
          "metadata": {},
          "output_type": "execute_result"
        }
      ],
      "source": [
        "np.setdiff1d(n,m)"
      ]
    },
    {
      "cell_type": "code",
      "execution_count": 80,
      "metadata": {
        "colab": {
          "base_uri": "https://localhost:8080/"
        },
        "id": "KaZbcTk0XubR",
        "outputId": "b004ab7e-b7e3-4794-85e7-c8d5f3774eaf"
      },
      "outputs": [
        {
          "data": {
            "text/plain": [
              "array([1, 2, 6, 7])"
            ]
          },
          "execution_count": 80,
          "metadata": {},
          "output_type": "execute_result"
        }
      ],
      "source": [
        "np.setxor1d(m,n)"
      ]
    },
    {
      "cell_type": "code",
      "execution_count": 81,
      "metadata": {
        "colab": {
          "base_uri": "https://localhost:8080/"
        },
        "id": "SqV9rpQ_XzVg",
        "outputId": "1d8192a6-131f-4b02-d4dc-b957ef3ca4d9"
      },
      "outputs": [
        {
          "data": {
            "text/plain": [
              "array([1])"
            ]
          },
          "execution_count": 81,
          "metadata": {},
          "output_type": "execute_result"
        }
      ],
      "source": [
        "m[np.in1d(m,1)]"
      ]
    },
    {
      "cell_type": "markdown",
      "metadata": {
        "id": "uLxS7H2pr-rh"
      },
      "source": [
        "### np.clip\n",
        "\n",
        "numpy.clip() function is used to Clip (limit) the values in an array.\n",
        "\n",
        "https://numpy.org/doc/stable/reference/generated/numpy.clip.html"
      ]
    },
    {
      "cell_type": "code",
      "execution_count": 82,
      "metadata": {
        "colab": {
          "base_uri": "https://localhost:8080/"
        },
        "id": "Q3S9gjNzsL73",
        "outputId": "b6dbce23-291a-413b-b488-d8e8629fe7a0"
      },
      "outputs": [
        {
          "data": {
            "text/plain": [
              "array([12, 35, 32, 54, 82, 24, 25, 44, 55, 31, 32, 79, 31, 15, 37])"
            ]
          },
          "execution_count": 82,
          "metadata": {},
          "output_type": "execute_result"
        }
      ],
      "source": [
        "# code\n",
        "a"
      ]
    },
    {
      "cell_type": "code",
      "execution_count": 83,
      "metadata": {
        "colab": {
          "base_uri": "https://localhost:8080/"
        },
        "id": "x08JKAVHYOxF",
        "outputId": "8d563b61-f134-45f7-b21c-d0824bb66c54"
      },
      "outputs": [
        {
          "data": {
            "text/plain": [
              "array([25, 35, 32, 54, 75, 25, 25, 44, 55, 31, 32, 75, 31, 25, 37])"
            ]
          },
          "execution_count": 83,
          "metadata": {},
          "output_type": "execute_result"
        }
      ],
      "source": [
        "np.clip(a,a_min=25,a_max=75)"
      ]
    },
    {
      "cell_type": "code",
      "execution_count": 84,
      "metadata": {},
      "outputs": [
        {
          "data": {
            "text/plain": [
              "array([[7, 7],\n",
              "       [7, 7]])"
            ]
          },
          "execution_count": 84,
          "metadata": {},
          "output_type": "execute_result"
        }
      ],
      "source": [
        "np.full((2,2),7) "
      ]
    },
    {
      "cell_type": "code",
      "execution_count": 85,
      "metadata": {
        "id": "INpvUpf9InGT"
      },
      "outputs": [],
      "source": [
        "# 17. np.swapaxes"
      ]
    },
    {
      "cell_type": "code",
      "execution_count": 86,
      "metadata": {
        "id": "AEFIFE1vJXDA"
      },
      "outputs": [],
      "source": [
        "# 18. np.uniform"
      ]
    },
    {
      "cell_type": "code",
      "execution_count": 87,
      "metadata": {
        "id": "y7M0rggRKBIu"
      },
      "outputs": [],
      "source": [
        "# 19. np.count_nonzero"
      ]
    },
    {
      "cell_type": "code",
      "execution_count": 88,
      "metadata": {
        "id": "Qy0-pdlOK9tC"
      },
      "outputs": [],
      "source": [
        "# 21. np.tile\n",
        "# https://www.kaggle.com/code/abhayparashar31/best-numpy-functions-for-data-science-50?scriptVersionId=98816580"
      ]
    },
    {
      "cell_type": "code",
      "execution_count": 89,
      "metadata": {
        "id": "5DAEz6cbIdga"
      },
      "outputs": [],
      "source": [
        "# 22. np.repeat\n",
        "# https://towardsdatascience.com/10-numpy-functions-you-should-know-1dc4863764c5"
      ]
    },
    {
      "cell_type": "code",
      "execution_count": 90,
      "metadata": {
        "id": "DdLxDfsMNfz8"
      },
      "outputs": [],
      "source": [
        "\n",
        "# 25. np.allclose and equals"
      ]
    }
  ],
  "metadata": {
    "colab": {
      "provenance": []
    },
    "kernelspec": {
      "display_name": "Python 3",
      "name": "python3"
    },
    "language_info": {
      "codemirror_mode": {
        "name": "ipython",
        "version": 3
      },
      "file_extension": ".py",
      "mimetype": "text/x-python",
      "name": "python",
      "nbconvert_exporter": "python",
      "pygments_lexer": "ipython3",
      "version": "3.12.1"
    }
  },
  "nbformat": 4,
  "nbformat_minor": 0
}
